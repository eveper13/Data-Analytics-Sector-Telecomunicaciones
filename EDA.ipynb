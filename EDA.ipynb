{
 "cells": [
  {
   "cell_type": "code",
   "execution_count": 1,
   "metadata": {},
   "outputs": [],
   "source": [
    "#Importar librerias necesarias\n",
    "import pandas as pd\n",
    "import numpy as np\n",
    "import matplotlib.pyplot as plt\n",
    "import seaborn as sns"
   ]
  },
  {
   "cell_type": "markdown",
   "metadata": {},
   "source": [
    "eda.... buscar resumen"
   ]
  },
  {
   "cell_type": "markdown",
   "metadata": {},
   "source": [
    "1. Acc_vel_loc_sinrangos"
   ]
  },
  {
   "cell_type": "code",
   "execution_count": 3,
   "metadata": {},
   "outputs": [
    {
     "name": "stdout",
     "output_type": "stream",
     "text": [
      "<class 'pandas.core.frame.DataFrame'>\n",
      "RangeIndex: 3065 entries, 0 to 3064\n",
      "Columns: 125 entries, Provincia to 10000 Mbps\n",
      "dtypes: float64(121), int64(1), object(3)\n",
      "memory usage: 2.9+ MB\n",
      "None\n",
      "Provincia     0\n",
      "Partido       0\n",
      "Localidad     0\n",
      "Link Indec    0\n",
      "Otros         0\n",
      "             ..\n",
      "999 Mbps      0\n",
      "1000 Mbps     0\n",
      "1024 Mbps     0\n",
      "4000 Mbps     0\n",
      "10000 Mbps    0\n",
      "Length: 125, dtype: int64\n"
     ]
    }
   ],
   "source": [
    "# Importar las hoja Acc_vel_loc_sinrangos\n",
    "acc_vel_loc_sinrangos = pd.read_csv('Dataset_procesado/Acc_velocidad_loc_sinrangos.csv')\n",
    "\n",
    "#Verificar informacion del dataset\n",
    "print(acc_vel_loc_sinrangos.info()) \n",
    "\n",
    "# Se verifican de nuevo los valores nulos\n",
    "print(acc_vel_loc_sinrangos.isnull().sum())"
   ]
  },
  {
   "cell_type": "code",
   "execution_count": 4,
   "metadata": {},
   "outputs": [
    {
     "name": "stdout",
     "output_type": "stream",
     "text": [
      "         Link Indec         Otros   0,256 Mbps      0,5 Mbps   0,512 Mbps  \\\n",
      "count  3.065000e+03   3065.000000  3065.000000   3065.000000  3065.000000   \n",
      "mean   3.862774e+07    107.071126     0.034584      9.002284     0.359869   \n",
      "std    3.001230e+07   1724.802263     0.696957    451.079743     2.092825   \n",
      "min    0.000000e+00    -15.000000     0.000000      0.000000     0.000000   \n",
      "25%    6.875025e+06      0.000000     0.000000      0.000000     0.000000   \n",
      "50%    3.009803e+07      0.000000     0.000000      0.000000     0.000000   \n",
      "75%    6.611903e+07      1.000000     0.000000      0.000000     0.000000   \n",
      "max    9.401402e+07  87722.000000    31.000000  24968.000000    61.000000   \n",
      "\n",
      "         0,75 Mbps       1 Mbps     1,5 Mbps       2 Mbps     2,2 Mbps  ...  \\\n",
      "count  3065.000000  3065.000000  3065.000000  3065.000000  3065.000000  ...   \n",
      "mean      3.668189    18.959869     0.648613    22.403589     0.005873  ...   \n",
      "std      37.817816   122.302572    21.750518   137.560321     0.325130  ...   \n",
      "min       0.000000     0.000000     0.000000     0.000000     0.000000  ...   \n",
      "25%       0.000000     0.000000     0.000000     0.000000     0.000000  ...   \n",
      "50%       0.000000     0.000000     0.000000     0.000000     0.000000  ...   \n",
      "75%       0.000000     1.000000     0.000000     0.000000     0.000000  ...   \n",
      "max    1307.000000  4111.000000  1170.000000  3530.000000    18.000000  ...   \n",
      "\n",
      "          680 Mbps     700 Mbps     800 Mbps     850 Mbps     900 Mbps  \\\n",
      "count  3065.000000  3065.000000  3065.000000  3065.000000  3065.000000   \n",
      "mean      0.001631     0.001305     0.200326     0.000326     0.035889   \n",
      "std       0.090314     0.036108    10.192965     0.018063     1.986907   \n",
      "min       0.000000     0.000000     0.000000     0.000000     0.000000   \n",
      "25%       0.000000     0.000000     0.000000     0.000000     0.000000   \n",
      "50%       0.000000     0.000000     0.000000     0.000000     0.000000   \n",
      "75%       0.000000     0.000000     0.000000     0.000000     0.000000   \n",
      "max       5.000000     1.000000   563.000000     1.000000   110.000000   \n",
      "\n",
      "          999 Mbps     1000 Mbps    1024 Mbps    4000 Mbps   10000 Mbps  \n",
      "count  3065.000000   3065.000000  3065.000000  3065.000000  3065.000000  \n",
      "mean      0.018597     83.545514     0.000653     0.000326     0.003263  \n",
      "std       0.481356   1286.124066     0.025540     0.018063     0.163560  \n",
      "min       0.000000      0.000000     0.000000     0.000000     0.000000  \n",
      "25%       0.000000      0.000000     0.000000     0.000000     0.000000  \n",
      "50%       0.000000      0.000000     0.000000     0.000000     0.000000  \n",
      "75%       0.000000      0.000000     0.000000     0.000000     0.000000  \n",
      "max      25.000000  68405.000000     1.000000     1.000000     9.000000  \n",
      "\n",
      "[8 rows x 122 columns]\n"
     ]
    }
   ],
   "source": [
    "print(acc_vel_loc_sinrangos.describe())"
   ]
  },
  {
   "cell_type": "markdown",
   "metadata": {},
   "source": [
    "se puede resumir de estos resultados estadisticos que existe:\n",
    "Dispersión de Datos: Las columnas como \"1 Mbps\" y \"2 Mbps\" muestran una alta dispersión de datos, lo que significa que hay localidades con una gran cantidad de accesos, mientras que otras tienen muy pocos o ninguno.\n",
    "Preponderancia de Valores Bajos: Muchas de las velocidades tienen medias muy bajas y percentiles (25%, 50%, 75%) cercanos a 0, lo que sugiere que en la mayoría de las localidades no hay muchos accesos a estas velocidades, o que están concentrados en pocas localidades."
   ]
  },
  {
   "cell_type": "markdown",
   "metadata": {},
   "source": [
    "Ahora procedo a realizar graficas y se creara una lista de las columnas variadas de velocidades"
   ]
  },
  {
   "cell_type": "code",
   "execution_count": 5,
   "metadata": {},
   "outputs": [
    {
     "name": "stdout",
     "output_type": "stream",
     "text": [
      "Columnas originales: ['0,256 Mbps', '0,5 Mbps', '0,512 Mbps', '0,75 Mbps', '1 Mbps', '1,5 Mbps', '2 Mbps', '2,2 Mbps', '2,5 Mbps', '3 Mbps', '3,3 Mbps', '3,5 Mbps', '4 Mbps', '4,5 Mbps', '5 Mbps', '6 Mbps', '6,4 Mbps', '7 Mbps', '7,5 Mbps', '8 Mbps', '9 Mbps', '10 Mbps', '10,1 Mbps', '10,2 Mbps', '11 Mbps', '12 Mbps', '12,3 Mbps', '13 Mbps', '14 Mbps', '15 Mbps', '16 Mbps', '17 Mbps', '18 Mbps', '20 Mbps', '20,5 Mbps', '21 Mbps', '22 Mbps', '23 Mbps', '24 Mbps', '25 Mbps', '25,1 Mbps', '25,5 Mbps', '26 Mbps', '27 Mbps', '30 Mbps', '31 Mbps', '32 Mbps', '35 Mbps', '36 Mbps', '40 Mbps', '41 Mbps', '45 Mbps', '48 Mbps', '49 Mbps', '50 Mbps', '50,1 Mbps', '50,25 Mbps', '51 Mbps', '55 Mbps', '59 Mbps', '60 Mbps', '61 Mbps', '65 Mbps', '66 Mbps', '70 Mbps', '75 Mbps', '80 Mbps', '85 Mbps', '90 Mbps', '95 Mbps', '98 Mbps', '100 Mbps', '100,1 Mbps', '100,25 Mbps', '105 Mbps', '110 Mbps', '120 Mbps', '122 Mbps', '125 Mbps', '130 Mbps', '140 Mbps', '150 Mbps', '155 Mbps', '160 Mbps', '164 Mbps', '165 Mbps', '180 Mbps', '200 Mbps', '205 Mbps', '212 Mbps', '220 Mbps', '225 Mbps', '240 Mbps', '246 Mbps', '250 Mbps', '256 Mbps', '275 Mbps', '300 Mbps', '320 Mbps', '325 Mbps', '330 Mbps', '350 Mbps', '400 Mbps', '450 Mbps', '480 Mbps', '500 Mbps', '512 Mbps', '520 Mbps', '540 Mbps', '600 Mbps', '680 Mbps', '700 Mbps', '800 Mbps', '850 Mbps', '900 Mbps', '999 Mbps', '1000 Mbps', '1024 Mbps', '4000 Mbps', '10000 Mbps']\n",
      "Nuevos nombres de columnas: [0.256, 0.5, 0.512, 0.75, 1.0, 1.5, 2.0, 2.2, 2.5, 3.0, 3.3, 3.5, 4.0, 4.5, 5.0, 6.0, 6.4, 7.0, 7.5, 8.0, 9.0, 10.0, 10.1, 10.2, 11.0, 12.0, 12.3, 13.0, 14.0, 15.0, 16.0, 17.0, 18.0, 20.0, 20.5, 21.0, 22.0, 23.0, 24.0, 25.0, 25.1, 25.5, 26.0, 27.0, 30.0, 31.0, 32.0, 35.0, 36.0, 40.0, 41.0, 45.0, 48.0, 49.0, 50.0, 50.1, 50.25, 51.0, 55.0, 59.0, 60.0, 61.0, 65.0, 66.0, 70.0, 75.0, 80.0, 85.0, 90.0, 95.0, 98.0, 100.0, 100.1, 100.25, 105.0, 110.0, 120.0, 122.0, 125.0, 130.0, 140.0, 150.0, 155.0, 160.0, 164.0, 165.0, 180.0, 200.0, 205.0, 212.0, 220.0, 225.0, 240.0, 246.0, 250.0, 256.0, 275.0, 300.0, 320.0, 325.0, 330.0, 350.0, 400.0, 450.0, 480.0, 500.0, 512.0, 520.0, 540.0, 600.0, 680.0, 700.0, 800.0, 850.0, 900.0, 999.0, 1000.0, 1024.0, 4000.0, 10000.0]\n"
     ]
    }
   ],
   "source": [
    "\n",
    "# Lista original de columnas que contienen \"Mbps\"\n",
    "velocidad_cols = [col for col in acc_vel_loc_sinrangos.columns if 'Mbps' in col]\n",
    "\n",
    "# Imprimir los nombres de las columnas antes de la conversión\n",
    "print(\"Columnas originales:\", velocidad_cols)\n",
    "\n",
    "# Función para limpiar y convertir los nombres de las columnas a números\n",
    "def convertir_velocidad(col):\n",
    "    try:\n",
    "        return float(col.replace('Mbps', '').replace(',', '.'))\n",
    "    except ValueError:\n",
    "        return col\n",
    "\n",
    "# Aplicar la función a los nombres de las columnas que contienen \"Mbps\"\n",
    "solo_veloc= [convertir_velocidad(col) for col in velocidad_cols]\n",
    "\n",
    "# Imprimir los nuevos nombres para verificar\n",
    "print(\"Nuevos nombres de columnas:\", solo_veloc)\n",
    "\n",
    "# Reemplazar los nombres de las columnas en el DataFrame original\n",
    "# Asegúrate de que la cantidad de columnas coincida\n",
    "acc_vel_loc_sinrangos.rename(columns=dict(zip(velocidad_cols, solo_veloc)), inplace=True)\n"
   ]
  },
  {
   "cell_type": "markdown",
   "metadata": {},
   "source": [
    "Se aplica la función convertir_velocidad solo a las columnas que contienen velocidades, y luego asigna esos nombres convertidos al DataFrame original."
   ]
  },
  {
   "cell_type": "code",
   "execution_count": 6,
   "metadata": {},
   "outputs": [
    {
     "name": "stdout",
     "output_type": "stream",
     "text": [
      "Columnas con valores atípicos relevantes: [0.5, 0.512, 0.75, 1.0, 2.0, 3.0, 3.5, 4.0, 5.0, 6.0, 7.0, 8.0, 10.0, 12.0, 15.0, 20.0, 25.0, 30.0, 50.0, 60.0, 75.0, 100.0, 150.0, 300.0, 500.0, 600.0, 1000.0]\n"
     ]
    }
   ],
   "source": [
    "# Función para filtrar columnas con una alta proporción de valores atípicos\n",
    "def filtrar_columnas_atipicas(df, columnas, umbral=0.05):\n",
    "    columnas_atipicas = []\n",
    "    for col in columnas:\n",
    "        q1 = df[col].quantile(0.25)\n",
    "        q3 = df[col].quantile(0.75)\n",
    "        iqr = q3 - q1\n",
    "        limites_inferiores = q1 - 1.5 * iqr\n",
    "        limites_superiores = q3 + 1.5 * iqr\n",
    "        atipicos = df[col].lt(limites_inferiores) | df[col].gt(limites_superiores)\n",
    "        if atipicos.mean() > umbral:\n",
    "            columnas_atipicas.append(col)\n",
    "    return columnas_atipicas\n",
    "\n",
    "# Aplicar la función\n",
    "columnas_atipicas = filtrar_columnas_atipicas(acc_vel_loc_sinrangos, solo_veloc, umbral=0.05)\n",
    "print(\"Columnas con valores atípicos relevantes:\", columnas_atipicas)\n"
   ]
  },
  {
   "cell_type": "markdown",
   "metadata": {},
   "source": [
    "Se debe identificar aquellas con una alta cantidad de valores atípicos o con una variabilidad significativa. se aplicara un umbral para seleccionar solo las columnas con una proporción significativa de valores atípicos."
   ]
  },
  {
   "cell_type": "code",
   "execution_count": 7,
   "metadata": {},
   "outputs": [
    {
     "data": {
      "image/png": "[encoded data removed]",
      "text/plain": [
       "<Figure size 800x600 with 1 Axes>"
      ]
     },
     "metadata": {},
     "output_type": "display_data"
    }
   ],
   "source": [
    "# Filtrar las columnas que contienen las velocidades\n",
    "columnas_velocidad = [col for col in acc_vel_loc_sinrangos.columns if isinstance(col, (float, int))]\n",
    "\n",
    "# Sumar las columnas de velocidad\n",
    "df_sum = acc_vel_loc_sinrangos[columnas_velocidad].sum()\n",
    "\n",
    "# Filtrar velocidades con más de 100 accesos\n",
    "df_filtered = df_sum[df_sum > 100]\n",
    "\n",
    "# Graficar los resultados\n",
    "plt.figure(figsize=(8, 6))\n",
    "plt.scatter(df_filtered.index, df_filtered.values)\n",
    "plt.xlabel('Velocidad de Conexión (Mbps)')\n",
    "plt.ylabel('Accesos')\n",
    "plt.xticks(rotation=90)\n",
    "plt.show()"
   ]
  },
  {
   "cell_type": "markdown",
   "metadata": {},
   "source": [
    "El gráfico es un diagrama de dispersión que muestra la relación entre diferentes velocidades de conexión de internet (en Mbps) y el número de accesos para cada velocidad. Los puntos en el gráfico indican la cantidad de accesos para cada velocidad de conexión. La mayoría de los puntos están concentrados en la parte baja del gráfico, lo que sugiere que las velocidades de conexión más utilizadas tienen un número relativamente bajo de accesos. Hay algunos valores atípicos (outliers) que se encuentran más arriba, indicando velocidades con un número significativamente mayor de accesos."
   ]
  },
  {
   "cell_type": "code",
   "execution_count": 8,
   "metadata": {},
   "outputs": [
    {
     "data": {
      "image/png": "[encoded data removed]",
      "text/plain": [
       "<Figure size 1400x700 with 1 Axes>"
      ]
     },
     "metadata": {},
     "output_type": "display_data"
    }
   ],
   "source": [
    "# Calcular la suma o media de velocidades por localidad\n",
    "localidades = acc_vel_loc_sinrangos.groupby('Localidad')[columnas_velocidad].sum()\n",
    "\n",
    "# Identificar las localidades con  mayores sumas\n",
    "localidades_mayores = localidades.sum(axis=1).nlargest(10)\n",
    "\n",
    "# Graficar las localidades con mayores velocidades\n",
    "plt.figure(figsize=(14, 7))\n",
    "localidades_mayores.plot(kind='bar', color='red', alpha=0.7)\n",
    "plt.title('Localidades con Más Velocidades de Conexión')\n",
    "plt.xlabel('Localidad')\n",
    "plt.ylabel('Suma de Velocidades')\n",
    "plt.xticks(rotation=90)\n",
    "plt.show()"
   ]
  },
  {
   "cell_type": "code",
   "execution_count": 9,
   "metadata": {},
   "outputs": [
    {
     "name": "stdout",
     "output_type": "stream",
     "text": [
      "Columnas con valores en 0 en al menos una localidad:\n",
      "0.256        3029\n",
      "0.500        2424\n",
      "0.512        2540\n",
      "0.750        2781\n",
      "1.000        2194\n",
      "             ... \n",
      "999.000      3048\n",
      "1000.000     2645\n",
      "1024.000     3063\n",
      "4000.000     3064\n",
      "10000.000    3063\n",
      "Length: 120, dtype: int64\n"
     ]
    }
   ],
   "source": [
    "# Verificar qué columnas tienen valores en 0\n",
    "columnas_con_valores_cero = acc_vel_loc_sinrangos[columnas_velocidad].eq(0).sum()\n",
    "#columnas_con_valores_cero = columnas_con_valores_cero[columnas_con_valores_cero > 0]\n",
    "\n",
    "print(\"Columnas con valores en 0 en al menos una localidad:\")\n",
    "print(columnas_con_valores_cero)"
   ]
  },
  {
   "cell_type": "code",
   "execution_count": 10,
   "metadata": {},
   "outputs": [
    {
     "name": "stdout",
     "output_type": "stream",
     "text": [
      "Localidades con al menos una velocidad en 0:\n",
      "         Provincia      Partido                           Localidad  \\\n",
      "0     BUENOS AIRES   25 de Mayo                          25 de Mayo   \n",
      "1     BUENOS AIRES   25 de Mayo                     Agustín Mosconi   \n",
      "2     BUENOS AIRES   25 de Mayo                           Del Valle   \n",
      "3     BUENOS AIRES   25 de Mayo                           Ernestina   \n",
      "4     BUENOS AIRES   25 de Mayo                   Gobernador Ugarte   \n",
      "...            ...          ...                                 ...   \n",
      "3060       TUCUMAN   Tafí Viejo  Villa Mariano Moreno - El Colmenar   \n",
      "3061       TUCUMAN      Trancas                San Pedro de Colalao   \n",
      "3062       TUCUMAN      Trancas                   Villa  de Trancas   \n",
      "3063       TUCUMAN  Yerba Buena                       Villa Carmela   \n",
      "3064       TUCUMAN  Yerba Buena            Yerba Buena - Marcos Paz   \n",
      "\n",
      "      Link Indec  Otros  0.256  0.5  0.512  0.75   1.0  ...  680.0  700.0  \\\n",
      "0        6854100    0.0    0.0  2.0    0.0  19.0   0.0  ...    0.0    0.0   \n",
      "1        6854010    0.0    0.0  0.0    0.0   0.0   0.0  ...    0.0    0.0   \n",
      "2        6854020    0.0    0.0  1.0    0.0   0.0   0.0  ...    0.0    0.0   \n",
      "3        6854030    0.0    0.0  0.0    0.0   0.0   0.0  ...    0.0    0.0   \n",
      "4        6854040    0.0    0.0  0.0    0.0   0.0   0.0  ...    0.0    0.0   \n",
      "...          ...    ...    ...  ...    ...   ...   ...  ...    ...    ...   \n",
      "3060    90105100    0.0    0.0  0.0    0.0   0.0   0.0  ...    0.0    0.0   \n",
      "3061    90112020    0.0    0.0  0.0    0.0   0.0   0.0  ...    0.0    0.0   \n",
      "3062    90112030    0.0    0.0  0.0    0.0   0.0   1.0  ...    0.0    0.0   \n",
      "3063    90119020    8.0    0.0  0.0    0.0   0.0   3.0  ...    0.0    0.0   \n",
      "3064    90119030  176.0    0.0  0.0    0.0   0.0  14.0  ...    0.0    0.0   \n",
      "\n",
      "      800.0  850.0  900.0  999.0  1000.0  1024.0  4000.0  10000.0  \n",
      "0       0.0    0.0    0.0    0.0     0.0     0.0     0.0      0.0  \n",
      "1       0.0    0.0    0.0    0.0     0.0     0.0     0.0      0.0  \n",
      "2       0.0    0.0    0.0    0.0     0.0     0.0     0.0      0.0  \n",
      "3       0.0    0.0    0.0    0.0     0.0     0.0     0.0      0.0  \n",
      "4       0.0    0.0    0.0    0.0     0.0     0.0     0.0      0.0  \n",
      "...     ...    ...    ...    ...     ...     ...     ...      ...  \n",
      "3060    0.0    0.0    0.0    0.0     5.0     0.0     0.0      0.0  \n",
      "3061    0.0    0.0    0.0    0.0     0.0     0.0     0.0      0.0  \n",
      "3062    0.0    0.0    0.0    0.0     0.0     0.0     0.0      0.0  \n",
      "3063    0.0    0.0    0.0    0.0     0.0     0.0     0.0      0.0  \n",
      "3064    0.0    0.0    0.0    0.0    20.0     0.0     0.0      0.0  \n",
      "\n",
      "[3065 rows x 125 columns]\n"
     ]
    }
   ],
   "source": [
    "# Localidades con al menos un valor de velocidad en 0\n",
    "localidades_con_cero = acc_vel_loc_sinrangos[acc_vel_loc_sinrangos[columnas_velocidad].eq(0).any(axis=1)]\n",
    "\n",
    "print(\"Localidades con al menos una velocidad en 0:\")\n",
    "print(localidades_con_cero)\n",
    "\n"
   ]
  },
  {
   "cell_type": "code",
   "execution_count": null,
   "metadata": {},
   "outputs": [],
   "source": [
    "# Definir los rangos\n",
    "bins = [0, 1, 5, 10, 25, 50, 100, 500, 1024, 4000, 10000]\n",
    "labels = ['0-1 Mbps', '1-5 Mbps', '5-10 Mbps', '10-25 Mbps', '25-50 Mbps', '50-100 Mbps', '100-500 Mbps', '500-1000 Mbps', '1000-5000 Mbps', '5000-10000 Mbps']\n",
    "\n",
    "# Convertir las velocidades a categorías\n",
    "for col in solo_veloc:\n",
    "    if acc_vel_loc_sinrangos[col].dtype in [np.float64, np.float32]:\n",
    "        # Asegurarse de que `col` sea de tipo string al concatenar\n",
    "        acc_vel_loc_sinrangos[str(col) + '_rango'] = pd.cut(acc_vel_loc_sinrangos[col], bins=bins, labels=labels)\n",
    "\n",
    "# Contar el número de valores por rango\n",
    "conteo_rangos = acc_vel_loc_sinrangos.filter(like='_rango').apply(pd.Series.value_counts)\n",
    "print(\"Conteo por rango de velocidades:\\n\", conteo_rangos)\n",
    "\n"
   ]
  },
  {
   "cell_type": "code",
   "execution_count": null,
   "metadata": {},
   "outputs": [],
   "source": [
    "# Crear un boxplot para cada rango\n",
    "plt.figure(figsize=(20, 10))\n",
    "conteo_rangos.T.plot(kind='box', figsize=(20, 10), grid=True)\n",
    "plt.title(\"Distribución de velocidades por rango (Boxplot)\")\n",
    "plt.xlabel(\"Rangos de Velocidad\")\n",
    "plt.ylabel(\"Conteo de Velocidades\")\n",
    "plt.show()\n",
    "\n"
   ]
  },
  {
   "cell_type": "markdown",
   "metadata": {},
   "source": [
    "Distribución Concentrada en Velocidades Bajas: Los accesos están más concentrados en los rangos de velocidades bajas, como 0-1 Mbps y 1-5 Mbps. Esto se puede observar porque los cuadros de estos rangos tienen más puntos, indicando una mayor densidad de datos.\n",
    "\n",
    "Presencia de Valores Atípicos: En cada rango de velocidad hay varios valores atípicos (outliers), representados por puntos fuera de los bigotes del boxplot. Estos indican que, aunque la mayoría de los accesos se encuentra en un rango específico, hay casos aislados donde el número de accesos es significativamente mayor o menor.\n",
    "\n",
    "Asimetría en los Rangos Altos: En los rangos de velocidades más altas (por ejemplo, 100-500 Mbps y superiores), los boxplots muestran una mayor dispersión y asimetría, lo que sugiere que, aunque hay menos accesos en general, la variabilidad dentro de estos accesos es mayor.\n",
    "\n",
    "Mediana Baja en Todos los Rangos: La mediana (línea en el centro de cada caja) es bastante baja en todos los rangos, lo que indica que la mayoría de los accesos se encuentra en valores bajos incluso dentro de cada rango de velocidad.\n",
    "\n",
    "Varianza Creciente con la Velocidad: A medida que aumenta la velocidad, la varianza de los datos parece aumentar, como se puede observar en el aumento del tamaño de las cajas y la distancia de los bigotes. Esto podría sugerir que los accesos en velocidades más altas no son uniformes y varían más ampliamente."
   ]
  },
  {
   "cell_type": "markdown",
   "metadata": {},
   "source": [
    "2. Accesos_tecnologia_localidad"
   ]
  },
  {
   "cell_type": "code",
   "execution_count": null,
   "metadata": {},
   "outputs": [],
   "source": [
    "# Importar el csv\n",
    "acc_tecnol_local = pd.read_csv('Dataset_procesado/Accesos_tecnologia_localidades.csv')"
   ]
  },
  {
   "cell_type": "code",
   "execution_count": null,
   "metadata": {},
   "outputs": [],
   "source": [
    "#Verificar informacion del dataset\n",
    "print(acc_tecnol_local.info()) "
   ]
  },
  {
   "cell_type": "markdown",
   "metadata": {},
   "source": [
    "Se puede observar que este dataframe tiene datos de 3073 localidades o registros únicos con 13 columnas en total. ste DataFrame parece contener datos sobre la disponibilidad de diferentes tipos de tecnologías de acceso a internet en diversas localidades (provincia, partido, localidad). Cada tipo de acceso a internet (ADSL, CABLEMODEM, FIBRA ÓPTICA, etc.) está cuantificado por el número de conexiones en cada localidad. La columna Total general probablemente sea la suma de todas las conexiones de diferentes tipos para cada localidad."
   ]
  },
  {
   "cell_type": "code",
   "execution_count": null,
   "metadata": {},
   "outputs": [],
   "source": [
    "print(acc_tecnol_local.describe())"
   ]
  },
  {
   "cell_type": "markdown",
   "metadata": {},
   "source": [
    "rsumir mean (media):\n",
    "Representa el valor promedio para cada columna. Por ejemplo, la media de la columna \"0,256 Mbps\" es 0.034584, lo que indica que, en promedio, las localidades tienen aproximadamente 0.03 accesos en ese rango de velocidad.\n",
    "\n",
    "std (desviación estándar):\n",
    "Mide la dispersión de los datos respecto a la media. Un valor alto indica que los datos están más dispersos. Por ejemplo, la desviación estándar de \"CABLEMODEM\" es 122.302572, lo que indica una gran variabilidad en el número de accesos por esta tecnología entre las localidades.\n",
    "\n",
    "min (mínimo):\n",
    "Indica el valor más bajo registrado en cada columna. Por ejemplo, \"CABLEMODEM\" tiene un valor mínimo de 0, lo que sugiere que hay localidades sin accesos de este tipo.\n",
    "\n",
    "25% (primer cuartil):\n",
    "El 25% de las localidades tiene un número de accesos menor o igual a este valor. Por ejemplo, el 25% de las localidades tiene 0 accesos en \"0,5 Mbps\".\n",
    "\n",
    "50% (mediana):\n",
    "La mediana es el valor central, donde el 50% de las localidades tiene un número de accesos menor o igual a este valor. Es una buena medida del \"valor típico\" cuando los datos están sesgados.\n",
    "\n",
    "75% (tercer cuartil):\n",
    "El 75% de las localidades tiene un número de accesos menor o igual a este valor. Por ejemplo, el 75% de las localidades tiene menos de 1 acceso en \"0,75 Mbps\".\n",
    "\n",
    "max (máximo):\n",
    "Indica el valor más alto registrado en cada columna. Por ejemplo, la columna \"CABLEMODEM\" tiene un máximo de 4111, lo que significa que la localidad con más accesos por Cablemodem tiene 4111 accesos.\n",
    "\n",
    "Interpretación General:\n",
    "Distribución de Datos: La mayoría de los valores de acceso en diferentes tecnologías y rangos de velocidad están concentrados cerca de 0, lo que sugiere que en muchas localidades hay pocos o ningún acceso en ciertos rangos o tecnologías.\n",
    "Desviación Estándar Alta: En columnas como \"CABLEMODEM\" o \"1 Mbps\", la desviación estándar alta indica que hay localidades con un número significativamente mayor de accesos que otras.\n",
    "Outliers Potenciales: Los valores máximos en varias columnas son mucho más grandes que la media, lo que sugiere la presencia de valores atípicos o outliers. Por ejemplo, en \"700 Mbps\", el máximo es 68405, mientras que la media es solo 0.001305, lo que sugiere que una localidad tiene un número extremadamente alto de accesos en este rango de velocidad.\n",
    ".\n"
   ]
  },
  {
   "cell_type": "markdown",
   "metadata": {},
   "source": [
    "Gráfico de barras: Para cada columna categórica (Provincia, Partido, Localidad), muestra la frecuencia de cada categoría."
   ]
  },
  {
   "cell_type": "code",
   "execution_count": null,
   "metadata": {},
   "outputs": [],
   "source": [
    "# Crear un DataFrame con las tecnologías de acceso a Internet\n",
    "tecnologias = ['ADSL', 'CABLEMODEM', 'DIAL UP', 'FIBRA OPTICA', 'OTROS', 'SATELITAL', 'WIMAX', 'WIRELESS']\n",
    "\n",
    "\n",
    "# Filtrar el DataFrame para seleccionar las localidades con mayores y menores conexiones totales\n",
    "acc_tecnol_local['TotalConexiones'] = acc_tecnol_local[tecnologias].sum(axis=1)\n",
    "localidades_mayores = acc_tecnol_local.groupby('Localidad')['TotalConexiones'].sum().nlargest(5).index\n",
    "localidades_menores = acc_tecnol_local.groupby('Localidad')['TotalConexiones'].sum().nsmallest(5).index\n",
    "\n",
    "# Crear un DataFrame con solo las localidades seleccionadas\n",
    "df_filtrado = acc_tecnol_local[acc_tecnol_local['Localidad'].isin(localidades_mayores) | acc_tecnol_local['Localidad'].isin(localidades_menores)]\n",
    "\n",
    "# Agrupar por localidad y sumar las conexiones por tecnología\n",
    "df_tecnologias_filtrado = df_filtrado.groupby('Localidad')[tecnologias].sum()\n",
    "\n",
    "# Crear el gráfico de barras apiladas\n",
    "df_tecnologias_filtrado.plot(kind='bar', stacked=True, figsize=(15, 7))\n",
    "plt.title('Distribución de Tipos de Conexión por Localidad (Localidades Seleccionadas)')\n",
    "plt.xlabel('Localidad')\n",
    "plt.ylabel('Número de Conexiones')\n",
    "plt.legend(title='Tecnología')\n",
    "plt.show()\n"
   ]
  },
  {
   "cell_type": "markdown",
   "metadata": {},
   "source": [
    "En la localidad de Ciudad Autónoma de Buenos Aires (CABA), las conexiones por CABLEMODEM son claramente predominantes, representando una gran parte de todas las conexiones.\n",
    "En localidades como Rosario y Mar del Plata, también se observa un número significativo de conexiones por CABLEMODEM, seguido de FIBRA ÓPTICA y otras tecnologías.\n",
    "Diversidad de Tecnologías:\n",
    "\n",
    "Se puede notar que en localidades como Córdoba, Rosario, y Mar del Plata hay una mayor diversidad en el uso de tecnologías, con conexiones repartidas entre CABLEMODEM, FIBRA ÓPTICA, ADSL, y otras.\n",
    "En contraste, en localidades más pequeñas o con menos datos, como Bajada del Agrio, Bauer y Sigel, y Las Petacas, las conexiones son menos numerosas y están distribuidas en pocas tecnologías, principalmente CABLEMODEM y ADSL.\n",
    "Presencia de Tecnologías Menos Comunes:\n",
    "\n",
    "Tecnologías como DIAL UP, SATELITAL, WIMAX, y WIRELESS tienen una presencia muy limitada, y sólo parecen ser utilizadas en una pequeña cantidad de localidades o en números muy reducidos.\n",
    "\n",
    "\n",
    "\n",
    "Observando el gráfico de barras apiladas que has generado, se pueden hacer algunas observaciones preliminares sobre la distribución de los tipos de conexión por localidad:\n",
    "\n",
    "Predominio de Conexiones por Tecnología:\n",
    "\n",
    "En la localidad de Ciudad Autónoma de Buenos Aires (CABA), las conexiones por CABLEMODEM son claramente predominantes, representando una gran parte de todas las conexiones.\n",
    "En localidades como Rosario y Mar del Plata, también se observa un número significativo de conexiones por CABLEMODEM, seguido de FIBRA ÓPTICA y otras tecnologías.\n",
    "Diversidad de Tecnologías:\n",
    "\n",
    "Se puede notar que en localidades como Córdoba, Rosario, y Mar del Plata hay una mayor diversidad en el uso de tecnologías, con conexiones repartidas entre CABLEMODEM, FIBRA ÓPTICA, ADSL, y otras.\n",
    "En contraste, en localidades más pequeñas o con menos datos, como Bajada del Agrio, Bauer y Sigel, y Las Petacas, las conexiones son menos numerosas y están distribuidas en pocas tecnologías, principalmente CABLEMODEM y ADSL.\n",
    "Presencia de Tecnologías Menos Comunes:\n",
    "\n",
    "Tecnologías como DIAL UP, SATELITAL, WIMAX, y WIRELESS tienen una presencia muy limitada, y sólo parecen ser utilizadas en una pequeña cantidad de localidades o en números muy reducidos.\n",
    "\n",
    "Resumen:\n",
    "Este gráfico sugiere que las localidades más grandes, como CABA, Rosario, y Córdoba, tienen una mayor cantidad y diversidad de conexiones a internet, con un predominio de tecnologías más modernas y de alta capacidad como CABLEMODEM y FIBRA ÓPTICA. Las localidades más pequeñas tienen un menor número de conexiones y dependen más de tecnologías tradicionales como ADSL. Además, algunas tecnologías menos comunes tienen una presencia muy limitada."
   ]
  },
  {
   "cell_type": "code",
   "execution_count": null,
   "metadata": {},
   "outputs": [],
   "source": [
    "# Melt the DataFrame to have a long format DataFrame for easier plotting\n",
    "df_melted = acc_tecnol_local.melt(id_vars=['Provincia', 'Partido', 'Localidad'], value_vars=tecnologias, var_name='Tecnologia', value_name='Conexiones')\n",
    "\n",
    "# Crear el boxplot\n",
    "plt.figure(figsize=(10, 6))\n",
    "sns.boxplot(x='Tecnologia', y='Conexiones', data=df_melted)\n",
    "plt.title('Comparación de Tecnologías de Internet')\n",
    "plt.xlabel('Tecnología')\n",
    "plt.ylabel('Número de Conexiones')\n",
    "plt.show()\n"
   ]
  },
  {
   "cell_type": "markdown",
   "metadata": {},
   "source": [
    "Este análisis sugiere que, aunque existen tecnologías de Internet más tradicionales como ADSL y CABLEMODEM, la Fibra Óptica está ganando terreno, reflejando una tendencia hacia la modernización de la infraestructura de Internet en las provincias. Las diferencias en la distribución de conexiones entre tecnologías también podrían indicar variaciones en la infraestructura tecnológica y el acceso a Internet entre las diferentes regiones.\n",
    "\n",
    "Valores Atípicos (Puntos Fuera de los Bigotes):\n",
    "\n",
    "Varios de los boxplots, como los de ADSL, FIBRA OPTICA, y CABLEMODEM, muestran valores atípicos (outliers), lo que sugiere que en algunas provincias hay un número de conexiones significativamente diferente (mucho mayor) al de otras.\n",
    "Estos outliers podrían indicar provincias con una infraestructura más desarrollada o áreas urbanas con una alta concentración de conexiones."
   ]
  },
  {
   "cell_type": "code",
   "execution_count": null,
   "metadata": {},
   "outputs": [],
   "source": [
    "# Suponiendo que ya tienes el DataFrame cargado en df\n",
    "tecnologias = ['ADSL', 'CABLEMODEM', 'DIAL UP', 'FIBRA OPTICA', 'OTROS', 'SATELITAL', 'WIMAX', 'WIRELESS']\n",
    "\n",
    "# Paso 2: Calcular la Matriz de Correlación\n",
    "corr_matrix = acc_tecnol_local[tecnologias].corr()\n",
    "\n",
    "# Paso 3: Crear el Heatmap de Correlación\n",
    "plt.figure(figsize=(10, 6))\n",
    "sns.heatmap(corr_matrix, annot=True, cmap='coolwarm', center=0)\n",
    "plt.title('Correlación entre los Diferentes Tipos de Conexión')\n",
    "plt.show()\n"
   ]
  },
  {
   "cell_type": "markdown",
   "metadata": {},
   "source": [
    "buscar resumen"
   ]
  },
  {
   "cell_type": "markdown",
   "metadata": {},
   "source": [
    "Por Provincia:\n",
    "3. Accesos por velocidad"
   ]
  },
  {
   "cell_type": "code",
   "execution_count": null,
   "metadata": {},
   "outputs": [],
   "source": [
    "# Importar el csv\n",
    "accesos_por_velocidad = pd.read_csv('Dataset_procesado/Accesos_velocidad_Provincia.csv')"
   ]
  },
  {
   "cell_type": "code",
   "execution_count": null,
   "metadata": {},
   "outputs": [],
   "source": [
    "#Verificar informacion del dataset\n",
    "print(accesos_por_velocidad.info()) "
   ]
  },
  {
   "cell_type": "markdown",
   "metadata": {},
   "source": [
    "Este dataset posee 984 filas y un total de 12 columnas\n",
    "\n",
    "Datos Completos: No hay valores nulos en el dataset, lo que es positivo para el análisis ya que no se requiere imputación de datos o eliminación de filas/columnas con valores faltantes.\n",
    "\n",
    "Tipos de Datos Adecuados: Los tipos de datos parecen estar bien definidos para cada columna, con las columnas numéricas en float64 o int64, y la columna de texto en object.\n",
    "\n",
    "Preparación para el Análisis: El dataset está bien estructurado y listo para análisis posteriores, como la generación de estadísticas descriptivas, visualización de datos, o la construcción de modelos predictivos."
   ]
  },
  {
   "cell_type": "markdown",
   "metadata": {},
   "source": [
    " Distribución de la Velocidad de Internet"
   ]
  },
  {
   "cell_type": "code",
   "execution_count": null,
   "metadata": {},
   "outputs": [],
   "source": [
    "\n",
    "plt.hist(accesos_por_velocidad['HASTA 512 kbps'], bins=30, alpha=0.5, label='HASTA 512 kbps')\n",
    "plt.hist(accesos_por_velocidad['+ 512 Kbps - 1 Mbps'], bins=30, alpha=0.5, label='+ 512 Kbps - 1 Mbps')\n",
    "plt.xlabel('Número de conexiones')\n",
    "plt.ylabel('Frecuencia')\n",
    "plt.title('Distribución de Velocidades de Internet')\n",
    "plt.legend(loc='upper right')\n",
    "plt.show()\n"
   ]
  },
  {
   "cell_type": "markdown",
   "metadata": {},
   "source": [
    "buscar resumen "
   ]
  },
  {
   "cell_type": "markdown",
   "metadata": {},
   "source": [
    "Tendencias Temporales"
   ]
  },
  {
   "cell_type": "code",
   "execution_count": null,
   "metadata": {},
   "outputs": [],
   "source": [
    "\n",
    "accesos_por_velocidad['Fecha'] = accesos_por_velocidad['Año'].astype(str) + '-' + accesos_por_velocidad['Trimestre'].astype(str)\n",
    "accesos_por_velocidad['Fecha'] = pd.to_datetime(accesos_por_velocidad['Fecha'] + '-1', format='%Y-%m-%d')\n",
    "\n",
    "plt.figure(figsize=(12, 8))\n",
    "sns.lineplot(x='Fecha', y='HASTA 512 kbps', data=accesos_por_velocidad, label='HASTA 512 kbps')\n",
    "sns.lineplot(x='Fecha', y='+ 512 Kbps - 1 Mbps', data=accesos_por_velocidad, label='+ 512 Kbps - 1 Mbps')\n",
    "# Agregar más líneas según sea necesario\n",
    "plt.xlabel('Fecha')\n",
    "plt.ylabel('Número de conexiones')\n",
    "plt.title('Tendencias de Velocidades de Internet a lo Largo del Tiempo')\n",
    "plt.legend()\n",
    "plt.show()\n"
   ]
  },
  {
   "cell_type": "markdown",
   "metadata": {},
   "source": [
    "buscar resumen"
   ]
  },
  {
   "cell_type": "markdown",
   "metadata": {},
   "source": [
    "Análisis de Tendencias en Outliers"
   ]
  },
  {
   "cell_type": "code",
   "execution_count": null,
   "metadata": {},
   "outputs": [],
   "source": [
    "sns.lmplot(x='Total', y='HASTA 512 kbps', data=accesos_por_velocidad, aspect=2, height=6)\n",
    "plt.xlabel('Total de Conexiones')\n",
    "plt.ylabel('Número de conexiones hasta 512 kbps')\n",
    "plt.title('Tendencia entre Total de Conexiones y Velocidades de Internet')\n",
    "plt.show()"
   ]
  },
  {
   "cell_type": "markdown",
   "metadata": {},
   "source": []
  },
  {
   "cell_type": "code",
   "execution_count": null,
   "metadata": {},
   "outputs": [],
   "source": [
    "\n",
    "plt.figure(figsize=(12, 8))\n",
    "sns.boxplot(data=accesos_por_velocidad[['HASTA 512 kbps', '+ 512 Kbps - 1 Mbps', '+ 1 Mbps - 6 Mbps', '+ 6 Mbps - 10 Mbps', '+ 10 Mbps - 20 Mbps', '+ 20 Mbps - 30 Mbps', '+ 30 Mbps', 'OTROS']])\n",
    "plt.xticks(rotation=45)\n",
    "plt.title('Outliers en las Velocidades de Internet')\n",
    "plt.show()"
   ]
  },
  {
   "cell_type": "markdown",
   "metadata": {},
   "source": []
  },
  {
   "cell_type": "markdown",
   "metadata": {},
   "source": [
    "Comparacion de dos provincias elegir "
   ]
  },
  {
   "cell_type": "code",
   "execution_count": null,
   "metadata": {},
   "outputs": [],
   "source": [
    "df_provincia1 = df[df['Provincia'] == 'Provincia A']\n",
    "df_provincia2 = df[df['Provincia'] == 'Provincia B']\n",
    "\n",
    "plt.scatter(df_provincia1['Año'], df_provincia1['HASTA 512 kbps'], color='blue', label='Provincia A')\n",
    "plt.scatter(df_provincia2['Año'], df_provincia2['HASTA 512 kbps'], color='red', label='Provincia B')\n",
    "plt.xlabel('Año')\n",
    "plt.ylabel('Número de conexiones hasta 512 kbps')\n",
    "plt.title('Comparación de Velocidades de Internet entre Provincias')\n",
    "plt.legend()\n",
    "plt.show()\n"
   ]
  },
  {
   "cell_type": "markdown",
   "metadata": {},
   "source": []
  },
  {
   "cell_type": "code",
   "execution_count": null,
   "metadata": {},
   "outputs": [],
   "source": [
    "Relación entre Variables"
   ]
  },
  {
   "cell_type": "code",
   "execution_count": null,
   "metadata": {},
   "outputs": [],
   "source": [
    "\n",
    "corr = accesos_por_velocidad[['HASTA 512 kbps', '+ 512 Kbps - 1 Mbps', '+ 1 Mbps - 6 Mbps', '+ 6 Mbps - 10 Mbps', '+ 10 Mbps - 20 Mbps', '+ 20 Mbps - 30 Mbps', '+ 30 Mbps', 'OTROS']].corr()\n",
    "\n",
    "plt.figure(figsize=(10, 8))\n",
    "sns.heatmap(corr, annot=True, cmap='coolwarm', fmt='.2f')\n",
    "plt.title('Mapa de Calor de Correlaciones entre Categorías de Velocidad')\n",
    "plt.show()"
   ]
  },
  {
   "cell_type": "markdown",
   "metadata": {},
   "source": [
    "resumen "
   ]
  },
  {
   "cell_type": "markdown",
   "metadata": {},
   "source": [
    "Por Provincia:\n",
    "4. Accesos Por Tecnología"
   ]
  },
  {
   "cell_type": "code",
   "execution_count": null,
   "metadata": {},
   "outputs": [],
   "source": [
    "# Importar las hoja Acc_vel_loc_sinrangos\n",
    "acc_vel_tecnologia = pd.read_csv('Dataset_procesado/Accesos_Tecnología_Provincia.csv')"
   ]
  },
  {
   "cell_type": "code",
   "execution_count": null,
   "metadata": {},
   "outputs": [],
   "source": [
    "#Verificar informacion del dataset\n",
    "print(acc_vel_tecnologia.info()) \n"
   ]
  },
  {
   "cell_type": "markdown",
   "metadata": {},
   "source": [
    "buscar resumen"
   ]
  },
  {
   "cell_type": "code",
   "execution_count": null,
   "metadata": {},
   "outputs": [],
   "source": [
    "print(acc_vel_tecnologia.describe()) "
   ]
  },
  {
   "cell_type": "markdown",
   "metadata": {},
   "source": [
    "buscar resumen de describe"
   ]
  },
  {
   "cell_type": "markdown",
   "metadata": {},
   "source": [
    "Distribución de Tipos de Acceso\n",
    "Gráfico de barras apiladas:\n",
    "\n",
    "Objetivo: Ver la distribución de cada tipo de acceso (ADSL, Cablemodem, Fibra óptica, Wireless, Otros) a nivel general."
   ]
  },
  {
   "cell_type": "code",
   "execution_count": null,
   "metadata": {},
   "outputs": [],
   "source": [
    "\n",
    "# Sumar el total por tecnología\n",
    "tecnologia_totales = acc_vel_tecnologia[['ADSL', 'Cablemodem', 'Fibra óptica', 'Wireless', 'Otros']].sum()\n",
    "\n",
    "# Crear gráfico de barras\n",
    "tecnologia_totales.plot(kind='bar', figsize=(10, 6), color=['#1f77b4', '#ff7f0e', '#2ca02c', '#d62728', '#9467bd'])\n",
    "plt.xlabel('Tipo de Tecnología')\n",
    "plt.ylabel('Número de Conexiones')\n",
    "plt.title('Distribución de Tipos de Acceso a Internet')\n",
    "plt.xticks(rotation=45)\n",
    "plt.show()\n"
   ]
  },
  {
   "cell_type": "markdown",
   "metadata": {},
   "source": [
    "resumen"
   ]
  },
  {
   "cell_type": "markdown",
   "metadata": {},
   "source": [
    "Tendencias Temporales de Cada Tecnología\n",
    "Gráfico de líneas:\n",
    "\n",
    "Objetivo: Ver cómo cambian los números de conexiones para cada tecnología a lo largo del tiempo.\n"
   ]
  },
  {
   "cell_type": "markdown",
   "metadata": {},
   "source": [
    "Comparación Regional de Tecnologías"
   ]
  },
  {
   "cell_type": "code",
   "execution_count": null,
   "metadata": {},
   "outputs": [],
   "source": [
    "df_provincia = acc_vel_tecnologia.groupby('Provincia').sum()\n",
    "\n",
    "df_provincia[['ADSL', 'Cablemodem', 'Fibra óptica', 'Wireless', 'Otros']].plot(kind='bar', stacked=True, figsize=(14, 8))\n",
    "plt.xlabel('Provincia')\n",
    "plt.ylabel('Número de Conexiones')\n",
    "plt.title('Comparación de Tecnologías de Internet por Provincia')\n",
    "plt.xticks(rotation=45)\n",
    "plt.legend(title='Tecnología')\n",
    "plt.show()\n"
   ]
  },
  {
   "cell_type": "markdown",
   "metadata": {},
   "source": [
    "resumen"
   ]
  },
  {
   "cell_type": "markdown",
   "metadata": {},
   "source": [
    "Proporción de Tecnologías por una Provincia en particular"
   ]
  },
  {
   "cell_type": "code",
   "execution_count": null,
   "metadata": {},
   "outputs": [],
   "source": [
    "provincia = 'Buenos Aires'  # Cambia por la provincia que te interese\n",
    "df_provincia = acc_vel_tecnologia[acc_vel_tecnologia['Provincia'] == provincia]\n",
    "\n",
    "total_tecnologias = df_provincia[['ADSL', 'Cablemodem', 'Fibra óptica', 'Wireless', 'Otros']].sum()\n",
    "\n",
    "plt.pie(total_tecnologias, labels=total_tecnologias.index, autopct='%1.1f%%', colors=['#1f77b4', '#ff7f0e', '#2ca02c', '#d62728', '#9467bd'])\n",
    "plt.title(f'Proporción de Tecnologías de Internet en {provincia}')\n",
    "plt.show()\n"
   ]
  },
  {
   "cell_type": "markdown",
   "metadata": {},
   "source": [
    "se observa el pocentaje ...."
   ]
  },
  {
   "cell_type": "markdown",
   "metadata": {},
   "source": [
    "Análisis de Outliers"
   ]
  },
  {
   "cell_type": "code",
   "execution_count": null,
   "metadata": {},
   "outputs": [],
   "source": [
    "# Función para identificar outliers usando IQR\n",
    "def find_outliers_iqr(df):\n",
    "    outliers_dict = {}\n",
    "    for col in ['ADSL', 'Cablemodem', 'Fibra óptica', 'Wireless', 'Otros']:\n",
    "        Q1 = df[col].quantile(0.25)\n",
    "        Q3 = df[col].quantile(0.75)\n",
    "        IQR = Q3 - Q1\n",
    "        lower_bound = Q1 - 1.5 * IQR\n",
    "        upper_bound = Q3 + 1.5 * IQR\n",
    "        \n",
    "        # Identificar outliers\n",
    "        outliers = df[(df[col] < lower_bound) | (df[col] > upper_bound)]\n",
    "        outliers_dict[col] = outliers\n",
    "    \n",
    "    return outliers_dict\n",
    "\n",
    "# Obtener outliers\n",
    "outliers_iqr = find_outliers_iqr(acc_vel_tecnologia)\n",
    "\n",
    "# Mostrar resultados\n",
    "for tech, outliers in outliers_iqr.items():\n",
    "    print(f\"Outliers en {tech}:\")\n",
    "    print(outliers)"
   ]
  },
  {
   "cell_type": "markdown",
   "metadata": {},
   "source": [
    "Valores Extremos: Los outliers en la columna ADSL tienen valores notablemente más altos que el resto de los datos. Por ejemplo, los valores de ADSL como 1,567,685 en Buenos Aires y 445,569 en Capital Federal son considerablemente mayores en comparación con otros registros.\n",
    "Distribución Geográfica: Los outliers se encuentran en varias provincias, pero algunos lugares como Buenos Aires y Santa Fe tienen varios registros atípicos. Esto podría indicar una alta demanda o un error en la recopilación de datos.\n",
    "2. Temporalidad\n",
    "Fechas Recurrentes: Los outliers parecen estar concentrados en ciertos años y trimestres, como 2014, lo que podría sugerir un evento o una anomalía en esos períodos. Este patrón debe ser revisado para entender si hay un factor específico que causó estos valores extremos.\n",
    "3. Comparación con Otros Servicios\n",
    "Discrepancias en Servicios: Los valores altos en ADSL a menudo coinciden con valores elevados en otras categorías como Cablemodem y Fibra óptica. Esto puede indicar que los outliers no son errores aislados sino que están relacionados con una alta demanda en general."
   ]
  },
  {
   "cell_type": "code",
   "execution_count": null,
   "metadata": {},
   "outputs": [],
   "source": [
    "\n",
    "plt.figure(figsize=(12, 8))\n",
    "sns.boxplot(data=acc_vel_tecnologia[['ADSL', 'Cablemodem', 'Fibra óptica', 'Wireless', 'Otros']])\n",
    "plt.xticks(rotation=45)\n",
    "plt.title('Distribución de Tecnologías de Internet')\n",
    "plt.show()\n"
   ]
  },
  {
   "cell_type": "markdown",
   "metadata": {},
   "source": [
    "resumen de outlayers"
   ]
  },
  {
   "cell_type": "code",
   "execution_count": null,
   "metadata": {},
   "outputs": [],
   "source": []
  },
  {
   "cell_type": "markdown",
   "metadata": {},
   "source": [
    "ojoooo buscar bien un grafico para representar el año inconsistente con las tecnologia"
   ]
  },
  {
   "cell_type": "code",
   "execution_count": null,
   "metadata": {},
   "outputs": [],
   "source": [
    "# Verifica que las columnas existan y que no haya valores inesperados\n",
    "print(acc_vel_tecnologia.columns)\n",
    "print(acc_vel_tecnologia[['Año', 'Trimestre', 'ADSL', 'Cablemodem', 'Fibra óptica', 'Wireless', 'Otros']].head())\n"
   ]
  },
  {
   "cell_type": "code",
   "execution_count": null,
   "metadata": {},
   "outputs": [],
   "source": [
    "# Filtrar las filas que tengan valores NaN en las tecnologías\n",
    "df_inconsistente = acc_vel_tecnologia[acc_vel_tecnologia['Año_inconsistente']].copy()\n",
    "\n",
    "# Llenar NaNs o remover filas con NaN en las columnas de tecnologías\n",
    "df_inconsistente[['ADSL', 'Cablemodem', 'Fibra óptica', 'Wireless', 'Otros']] = df_inconsistente[['ADSL', 'Cablemodem', 'Fibra óptica', 'Wireless', 'Otros']].fillna(0)\n",
    "\n",
    "# Usar melt para transformar las columnas de tecnologías en formato largo\n",
    "df_melted = df_inconsistente.melt(id_vars=['Año', 'Trimestre'], \n",
    "                                  value_vars=['ADSL', 'Cablemodem', 'Fibra óptica', 'Wireless', 'Otros'],\n",
    "                                  var_name='Tecnologia', \n",
    "                                  value_name='Valor')\n",
    "\n",
    "# Filtrar las filas donde las tecnologías tienen valores significativos (por ejemplo, no NaN)\n",
    "df_melted = df_melted[df_melted['Valor'] != 0]\n"
   ]
  },
  {
   "cell_type": "code",
   "execution_count": null,
   "metadata": {},
   "outputs": [],
   "source": [
    "\n",
    "\n",
    "# Configurar el tamaño de la figura\n",
    "plt.figure(figsize=(12, 8))\n",
    "\n",
    "# Crear gráfico de líneas para cada tecnología\n",
    "sns.lineplot(x='Trimestre', y='Año', hue='Tecnologia', marker='o', data=df_melted)\n",
    "\n",
    "# Etiquetas y título\n",
    "plt.title('Años Inconsistentes por Tecnología')\n",
    "plt.xlabel('Trimestre')\n",
    "plt.ylabel('Año Inconsistente')\n",
    "\n",
    "# Mostrar gráfico\n",
    "plt.show()\n",
    "\n"
   ]
  },
  {
   "cell_type": "markdown",
   "metadata": {},
   "source": [
    "5. Penetración-poblacion"
   ]
  },
  {
   "cell_type": "code",
   "execution_count": null,
   "metadata": {},
   "outputs": [],
   "source": [
    "# Importar las hoja Acc_vel_loc_sinrangos\n",
    "poblacion = pd.read_csv('Dataset_procesado/Penetración_poblacion.csv')"
   ]
  },
  {
   "cell_type": "code",
   "execution_count": null,
   "metadata": {},
   "outputs": [],
   "source": [
    "print(poblacion.info())"
   ]
  },
  {
   "cell_type": "code",
   "execution_count": null,
   "metadata": {},
   "outputs": [],
   "source": [
    "# Estadísticas descriptivas\n",
    "print(poblacion.describe(include='all'))"
   ]
  },
  {
   "cell_type": "markdown",
   "metadata": {},
   "source": [
    "Distribución Temporal: Los datos abarcan desde 2014 hasta 2024, con un promedio de 2018.6, lo que sugiere que los datos están distribuidos a lo largo de varios años y no se concentran en un período específico.\n",
    "\n",
    "Distribución Trimestral: La variable trimestre muestra una distribución relativamente uniforme, aunque con una ligera inclinación hacia el segundo y tercer trimestre.\n",
    "\n",
    "Diversidad Regional: Se observan 24 provincias, con Buenos Aires siendo la provincia más frecuentemente reportada en el dataset. Esto podría indicar una mayor densidad de datos para esta provincia en comparación con otras.\n",
    "\n",
    "Accesos por Habitantes: Hay una amplia gama en los accesos por cada 100 habitantes, con una mediana de 13.57 y una desviación estándar significativa (9.21), lo que indica que hay provincias con niveles de acceso muy diferentes entre sí. El rango amplio sugiere variabilidad en la penetración de internet o servicios de telecomunicaciones a nivel regional.\n",
    "\n"
   ]
  },
  {
   "cell_type": "markdown",
   "metadata": {},
   "source": [
    "Graficos:\n",
    "\n",
    "Distribución de Accesos por Año\n",
    "Un gráfico de líneas puede mostrar cómo ha cambiado la penetración de accesos por cada 100 habitantes a lo largo de los años."
   ]
  },
  {
   "cell_type": "code",
   "execution_count": null,
   "metadata": {},
   "outputs": [],
   "source": [
    "plt.figure(figsize=(12, 6))\n",
    "sns.lineplot(data=poblacion, x='Año', y='Accesos por cada 100 hab', hue='Provincia', marker='o')\n",
    "plt.title('Accesos por cada 100 habitantes a lo largo del tiempo')\n",
    "plt.xlabel('Año')\n",
    "plt.ylabel('Accesos por cada 100 hab')\n",
    "plt.legend(loc='upper right')\n",
    "plt.show()"
   ]
  },
  {
   "cell_type": "markdown",
   "metadata": {},
   "source": [
    "resumen"
   ]
  },
  {
   "cell_type": "markdown",
   "metadata": {},
   "source": [
    "Distribución de Accesos por Trimestre\n",
    "\n",
    "Un gráfico de caja (boxplot) puede ser útil para visualizar la distribución de accesos en diferentes trimestres."
   ]
  },
  {
   "cell_type": "code",
   "execution_count": null,
   "metadata": {},
   "outputs": [],
   "source": [
    "plt.figure(figsize=(12, 6))\n",
    "sns.boxplot(data=poblacion, x='Trimestre', y='Accesos por cada 100 hab')\n",
    "plt.title('Distribución de accesos por cada 100 habitantes por trimestre')\n",
    "plt.xlabel('Trimestre')\n",
    "plt.ylabel('Accesos por cada 100 hab')\n",
    "plt.show()"
   ]
  },
  {
   "cell_type": "markdown",
   "metadata": {},
   "source": [
    "resumen"
   ]
  },
  {
   "cell_type": "markdown",
   "metadata": {},
   "source": [
    "Distribución de Accesos por Provincia"
   ]
  },
  {
   "cell_type": "code",
   "execution_count": null,
   "metadata": {},
   "outputs": [],
   "source": [
    "plt.figure(figsize=(12, 8))\n",
    "sns.boxplot(data=poblacion, x='Provincia', y='Accesos por cada 100 hab')\n",
    "plt.title('Distribución de accesos por cada 100 habitantes por provincia')\n",
    "plt.xlabel('Provincia')\n",
    "plt.ylabel('Accesos por cada 100 hab')\n",
    "plt.xticks(rotation=90)\n",
    "plt.show()"
   ]
  },
  {
   "cell_type": "markdown",
   "metadata": {},
   "source": [
    "resumen"
   ]
  },
  {
   "cell_type": "markdown",
   "metadata": {},
   "source": [
    "Detección de Outliers"
   ]
  },
  {
   "cell_type": "code",
   "execution_count": null,
   "metadata": {},
   "outputs": [],
   "source": [
    "# Calcular la mediana\n",
    "median = poblacion['Accesos por cada 100 hab'].median()\n",
    "\n",
    "# Calcular la desviación absoluta respecto a la mediana\n",
    "mad = np.median(np.abs(poblacion['Accesos por cada 100 hab'] - median))\n",
    "\n",
    "# Definir el umbral\n",
    "threshold = 3 * mad\n",
    "\n",
    "# Identificar outliers\n",
    "outliers_mad = poblacion[np.abs(poblacion['Accesos por cada 100 hab'] - median) > threshold]\n",
    "\n",
    "# Visualizar outliers\n",
    "plt.figure(figsize=(12, 6))\n",
    "sns.boxplot(data=poblacion, x='Accesos por cada 100 hab')\n",
    "plt.title('Distribución de accesos por cada 100 habitantes con método MAD')\n",
    "plt.show()\n",
    "\n",
    "print(f'Número de outliers detectados con MAD: {len(outliers_mad)}')"
   ]
  },
  {
   "cell_type": "code",
   "execution_count": null,
   "metadata": {},
   "outputs": [],
   "source": [
    "plt.figure(figsize=(12, 6))\n",
    "sns.histplot(poblacion['Accesos por cada 100 hab'], bins=30, kde=True)\n",
    "plt.title('Distribución de accesos por cada 100 habitantes')\n",
    "plt.xlabel('Accesos por cada 100 hab')\n",
    "plt.ylabel('Frecuencia')\n",
    "plt.show()"
   ]
  },
  {
   "cell_type": "markdown",
   "metadata": {},
   "source": [
    "resumen"
   ]
  },
  {
   "cell_type": "markdown",
   "metadata": {},
   "source": [
    "6. Penetración-hogares"
   ]
  },
  {
   "cell_type": "code",
   "execution_count": null,
   "metadata": {},
   "outputs": [],
   "source": [
    "# Importar las hoja de penetracion hogares\n",
    "hogares= pd.read_csv('Dataset_procesado/Penetración_hogares.csv')"
   ]
  },
  {
   "cell_type": "code",
   "execution_count": null,
   "metadata": {},
   "outputs": [],
   "source": [
    "print(hogares.info())"
   ]
  },
  {
   "cell_type": "markdown",
   "metadata": {},
   "source": [
    "resumen"
   ]
  },
  {
   "cell_type": "code",
   "execution_count": null,
   "metadata": {},
   "outputs": [],
   "source": [
    "print(hogares.describe())"
   ]
  },
  {
   "cell_type": "markdown",
   "metadata": {},
   "source": [
    "Análisis Descriptivo\n",
    "Rango Temporal: Los datos abarcan desde 2014 hasta 2024, lo que representa una década de información.\n",
    "Tendencia Central: La media (2018.63) y la mediana (2019) están bastante cerca, indicando una distribución relativamente simétrica. La desviación estándar de 2.96 sugiere que los datos están relativamente concentrados alrededor de la media.\n",
    "Cuartiles: El rango intercuartílico (de 2016 a 2021) muestra que la mayoría de los datos se concentran en estos años, con menos frecuencia en años extremos (2014 y 2024).\n",
    "Trimestre:\n",
    "\n",
    "Distribución de Trimestres: Los valores varían de 1 a 4, representando los cuatro trimestres del año. La media es 2.46, lo que sugiere que, en promedio, los datos se distribuyen entre el primer y segundo trimestre.\n",
    "Cuartiles: El primer cuartil (1) y el tercer cuartil (3) sugieren que hay una tendencia hacia los primeros y últimos trimestres, con menos datos en el segundo trimestre.\n",
    "Accesos por cada 100 hogares:\n",
    "\n",
    "Tendencia Central: La media (52.16) es mayor que la mediana (49.44), lo que sugiere que hay algunos valores altos que están sesgando la media hacia arriba.\n",
    "Desviación Estándar: Con una desviación estándar de 24.04, hay una considerable variabilidad en el número de accesos.\n",
    "Cuartiles: Los valores del primer cuartil (33.20) al tercer cuartil (65.71) muestran una amplia gama en los accesos, indicando una distribución desigual."
   ]
  },
  {
   "cell_type": "markdown",
   "metadata": {},
   "source": [
    "Distribución de los Años"
   ]
  },
  {
   "cell_type": "code",
   "execution_count": null,
   "metadata": {},
   "outputs": [],
   "source": [
    "# Histograma del Año\n",
    "plt.figure(figsize=(10, 6))\n",
    "plt.hist(hogares['Año'], bins=range(int(hogares['Año'].min()), int(hogares['Año'].max()) + 1), edgecolor='black')\n",
    "plt.title('Distribución de los Años')\n",
    "plt.xlabel('Año')\n",
    "plt.ylabel('Frecuencia')\n",
    "plt.grid(True)\n",
    "plt.show()"
   ]
  },
  {
   "cell_type": "markdown",
   "metadata": {},
   "source": [
    "no se si dejar este grafico"
   ]
  },
  {
   "cell_type": "markdown",
   "metadata": {},
   "source": [
    "Distribución de Accesos"
   ]
  },
  {
   "cell_type": "code",
   "execution_count": null,
   "metadata": {},
   "outputs": [],
   "source": [
    "# Histograma de Accesos por cada 100 hogares\n",
    "plt.figure(figsize=(10, 6))\n",
    "plt.hist(hogares['Accesos por cada 100 hogares'], bins=30, edgecolor='black')\n",
    "plt.title('Distribución de Accesos por cada 100 Hogares')\n",
    "plt.xlabel('Accesos por cada 100 hogares')\n",
    "plt.ylabel('Frecuencia')\n",
    "plt.grid(True)\n",
    "plt.show()\n"
   ]
  },
  {
   "cell_type": "markdown",
   "metadata": {},
   "source": [
    "resumen"
   ]
  },
  {
   "cell_type": "markdown",
   "metadata": {},
   "source": [
    "Boxplot del Año"
   ]
  },
  {
   "cell_type": "code",
   "execution_count": null,
   "metadata": {},
   "outputs": [],
   "source": [
    "# Boxplot de Accesos por Año\n",
    "plt.figure(figsize=(14, 8))\n",
    "sns.boxplot(x='Año', y='Accesos por cada 100 hogares', data=hogares)\n",
    "plt.title('Boxplot de Accesos por Año')\n",
    "plt.xlabel('Año')\n",
    "plt.ylabel('Accesos por cada 100 hogares')\n",
    "plt.grid(True)\n",
    "plt.xticks(rotation=45)\n",
    "plt.show()\n",
    "\n",
    "# Boxplot de Accesos por Trimestre\n",
    "plt.figure(figsize=(14, 8))\n",
    "sns.boxplot(x='Trimestre', y='Accesos por cada 100 hogares', data=hogares)\n",
    "plt.title('Boxplot de Accesos por Trimestre')\n",
    "plt.xlabel('Trimestre')\n",
    "plt.ylabel('Accesos por cada 100 hogares')\n",
    "plt.grid(True)\n",
    "plt.show()\n"
   ]
  },
  {
   "cell_type": "markdown",
   "metadata": {},
   "source": []
  },
  {
   "cell_type": "code",
   "execution_count": null,
   "metadata": {},
   "outputs": [],
   "source": [
    "# Suponiendo que comparas 'Año' con 'Accesos por cada 100 hogares'\n",
    "plt.figure(figsize=(10, 6))\n",
    "plt.scatter(hogares['Año'], hogares['Accesos por cada 100 hogares'], alpha=0.5)\n",
    "plt.title('Dispersión de Accesos por Año')\n",
    "plt.xlabel('Año')\n",
    "plt.ylabel('Accesos por cada 100 hogares')\n",
    "plt.grid(True)\n",
    "plt.show()"
   ]
  },
  {
   "cell_type": "markdown",
   "metadata": {},
   "source": [
    "resumen"
   ]
  },
  {
   "cell_type": "markdown",
   "metadata": {},
   "source": [
    "7. Velocidad % por prov"
   ]
  },
  {
   "cell_type": "code",
   "execution_count": null,
   "metadata": {},
   "outputs": [],
   "source": [
    "# Importar las hoja Velocidad % por provincia \n",
    "velocidad = pd.read_csv('Dataset_procesado/Velocidad % por prov.csv')"
   ]
  },
  {
   "cell_type": "code",
   "execution_count": null,
   "metadata": {},
   "outputs": [],
   "source": [
    "print(velocidad.info())"
   ]
  },
  {
   "cell_type": "code",
   "execution_count": null,
   "metadata": {},
   "outputs": [],
   "source": [
    "print(velocidad.describe())"
   ]
  },
  {
   "cell_type": "markdown",
   "metadata": {},
   "source": [
    "Crecimiento y Variabilidad: El análisis sugiere que, a lo largo de los años, la velocidad de internet ha mejorado, pero sigue habiendo una gran variabilidad. Es posible que algunas provincias tengan acceso a velocidades mucho mayores que otras, lo que puede reflejar diferencias en infraestructura o inversión.\n",
    "Oportunidades de Mejora: La empresa podría enfocarse en reducir la disparidad en la velocidad de conexión para brindar un servicio más homogéneo a nivel nacional. Además, al observar el crecimiento de la velocidad a lo largo del tiempo, se podrían identificar tendencias que indiquen oportunidades de expansión en regiones con baja conectividad.\n",
    "\n",
    "Año y Trimestre:\n",
    "\n",
    "Año: El rango de años va de 2014 a 2024, con una media de 2018.63. La desviación estándar es de aproximadamente 2.96 años, lo que indica una variación regular en los años registrados.\n",
    "Trimestre: Los trimestres están distribuidos de 1 a 4, con una media de 2.46 y una desviación estándar de 1.13, lo que sugiere que los datos están bien distribuidos a lo largo de los trimestres del año.\n",
    "Mbps (Media de bajada):\n",
    "\n",
    "Media: La media de velocidad de descarga es de 23.19 Mbps, lo que sugiere un nivel de conectividad aceptable en promedio a lo largo de los años.\n",
    "Desviación Estándar: La desviación estándar es bastante alta (31.62 Mbps), indicando una gran variabilidad en las velocidades de descarga entre las diferentes provincias y/o trimestres.\n",
    "Valores Extremos: La velocidad mínima registrada es de 2.57 Mbps, mientras que la máxima alcanza los 234.44 Mbps. Esta gran diferencia entre los valores mínimo y máximo podría indicar la presencia de áreas con infraestructuras de telecomunicaciones muy dispares.\n"
   ]
  },
  {
   "cell_type": "markdown",
   "metadata": {},
   "source": [
    "Boxplot de Velocidad por Año y Trimestre:"
   ]
  },
  {
   "cell_type": "code",
   "execution_count": null,
   "metadata": {},
   "outputs": [],
   "source": [
    "plt.figure(figsize=(14, 8))\n",
    "\n",
    "# Boxplot para Año\n",
    "plt.subplot(1, 2, 1)\n",
    "sns.boxplot(x='Año', y='Mbps (Media de bajada)', data=velocidad)\n",
    "plt.title('Boxplot de Velocidad por Año')\n",
    "plt.xlabel('Año')\n",
    "plt.ylabel('Mbps (Media de bajada)')\n",
    "plt.grid(True)\n",
    "plt.xticks(rotation=45)\n",
    "\n",
    "# Boxplot para Trimestre\n",
    "plt.subplot(1, 2, 2)\n",
    "sns.boxplot(x='Trimestre', y='Mbps (Media de bajada)', data=velocidad)\n",
    "plt.title('Boxplot de Velocidad por Trimestre')\n",
    "plt.xlabel('Trimestre')\n",
    "plt.ylabel('Mbps (Media de bajada)')\n",
    "plt.grid(True)\n",
    "\n",
    "plt.tight_layout()\n",
    "plt.show()"
   ]
  },
  {
   "cell_type": "markdown",
   "metadata": {},
   "source": [
    "resuen"
   ]
  },
  {
   "cell_type": "markdown",
   "metadata": {},
   "source": [
    "Histograma de Velocidad de Internet:\n",
    "\n",
    "Propósito: Evaluar la distribución general de las velocidades de internet.\n",
    "Interpretación: Detectar si hay sesgo en la distribución (por ejemplo, más concentraciones de velocidades bajas o altas)."
   ]
  },
  {
   "cell_type": "code",
   "execution_count": null,
   "metadata": {},
   "outputs": [],
   "source": [
    "plt.figure(figsize=(10, 6))\n",
    "sns.histplot(velocidad['Mbps (Media de bajada)'], kde=True, bins=30)\n",
    "plt.title('Distribución de la Velocidad de Internet')\n",
    "plt.xlabel('Mbps (Media de bajada)')\n",
    "plt.ylabel('Frecuencia')\n",
    "plt.grid(True)\n",
    "plt.show()\n"
   ]
  },
  {
   "cell_type": "markdown",
   "metadata": {},
   "source": [
    "resumen"
   ]
  },
  {
   "cell_type": "markdown",
   "metadata": {},
   "source": [
    "nota buscar otro grafico de este o descartar esta hoja"
   ]
  },
  {
   "cell_type": "markdown",
   "metadata": {},
   "source": [
    "8. Ingresos"
   ]
  },
  {
   "cell_type": "code",
   "execution_count": null,
   "metadata": {},
   "outputs": [],
   "source": [
    "# Importar las hoja Acc_vel_loc_sinrangos\n",
    "ingresos = pd.read_csv('Dataset_procesado/Ingresos.csv')"
   ]
  },
  {
   "cell_type": "code",
   "execution_count": null,
   "metadata": {},
   "outputs": [],
   "source": [
    "print(ingresos.info())"
   ]
  },
  {
   "cell_type": "markdown",
   "metadata": {},
   "source": [
    "resumen"
   ]
  },
  {
   "cell_type": "code",
   "execution_count": null,
   "metadata": {},
   "outputs": [],
   "source": [
    "print(ingresos.describe())"
   ]
  },
  {
   "cell_type": "markdown",
   "metadata": {},
   "source": [
    "Resumen de Datos\n",
    "Promedio de Ingresos Anuales: Los ingresos promedio son 38,850 millones de pesos.\n",
    "Distribución Temporal:\n",
    "Año Mínimo y Máximo: Los datos cubren desde 2014 hasta 2033, lo que indica proyecciones o datos erróneos en el futuro.\n",
    "Ingresos Máximos y Mínimos: El valor máximo es 280,419 millones de pesos y el mínimo es 2,984 millones de pesos.\n",
    "Variabilidad en los Ingresos: La desviación estándar es alta, lo que indica una gran variabilidad en los ingresos entre los distintos trimestres.\n"
   ]
  },
  {
   "cell_type": "markdown",
   "metadata": {},
   "source": [
    "Gráfico de Líneas (Tendencia de Ingresos a lo Largo del Tiempo)"
   ]
  },
  {
   "cell_type": "code",
   "execution_count": null,
   "metadata": {},
   "outputs": [],
   "source": [
    "import matplotlib.pyplot as plt\n",
    "\n",
    "# Asegúrate de que la columna de fecha o año esté ordenada\n",
    "df = ingresos.sort_values(by=['Año', 'Trimestre'])\n",
    "\n",
    "plt.figure(figsize=(10, 6))\n",
    "plt.plot(df['Año'].astype(str) + ' Q' + df['Trimestre'].astype(str), df['Ingresos (miles de pesos)'], marker='o')\n",
    "plt.title('Tendencia de Ingresos a lo Largo del Tiempo')\n",
    "plt.xlabel('Año - Trimestre')\n",
    "plt.ylabel('Ingresos (miles de pesos)')\n",
    "plt.xticks(rotation=45)\n",
    "plt.grid(True)\n",
    "plt.show()\n"
   ]
  },
  {
   "cell_type": "markdown",
   "metadata": {},
   "source": [
    "cambiar por otro parecido"
   ]
  },
  {
   "cell_type": "markdown",
   "metadata": {},
   "source": [
    "Boxplot (Distribución de Ingresos por Año o Trimestre)"
   ]
  },
  {
   "cell_type": "code",
   "execution_count": null,
   "metadata": {},
   "outputs": [],
   "source": [
    "\n",
    "plt.figure(figsize=(10, 6))\n",
    "sns.boxplot(x='Año', y='Ingresos (miles de pesos)', data=df)\n",
    "plt.title('Distribución de Ingresos por Año')\n",
    "plt.xlabel('Año')\n",
    "plt.ylabel('Ingresos (miles de pesos)')\n",
    "plt.xticks(rotation=45)\n",
    "plt.show()"
   ]
  },
  {
   "cell_type": "markdown",
   "metadata": {},
   "source": [
    "resumen"
   ]
  },
  {
   "cell_type": "markdown",
   "metadata": {},
   "source": [
    "Distribucion de Ingresos"
   ]
  },
  {
   "cell_type": "code",
   "execution_count": null,
   "metadata": {},
   "outputs": [],
   "source": [
    "plt.figure(figsize=(10, 6))\n",
    "plt.hist(df['Ingresos (miles de pesos)'], bins=10, edgecolor='black')\n",
    "plt.title('Distribución de Ingresos')\n",
    "plt.xlabel('Ingresos (miles de pesos)')\n",
    "plt.ylabel('Frecuencia')\n",
    "plt.grid(True)\n",
    "plt.show()"
   ]
  },
  {
   "cell_type": "markdown",
   "metadata": {},
   "source": [
    "resumen"
   ]
  },
  {
   "cell_type": "markdown",
   "metadata": {},
   "source": [
    "Diagrama de Dispersión (Ingresos vs. Año)"
   ]
  },
  {
   "cell_type": "code",
   "execution_count": null,
   "metadata": {},
   "outputs": [],
   "source": [
    "plt.figure(figsize=(10, 6))\n",
    "plt.scatter(df['Año'], df['Ingresos (miles de pesos)'])\n",
    "plt.title('Ingresos vs. Año')\n",
    "plt.xlabel('Año')\n",
    "plt.ylabel('Ingresos (miles de pesos)')\n",
    "plt.grid(True)\n",
    "plt.show()"
   ]
  },
  {
   "cell_type": "markdown",
   "metadata": {},
   "source": [
    "resumen"
   ]
  },
  {
   "cell_type": "code",
   "execution_count": null,
   "metadata": {},
   "outputs": [],
   "source": [
    "plt.figure(figsize=(10, 6))\n",
    "sns.boxplot(x=df['Ingresos (miles de pesos)'])\n",
    "plt.title('Boxplot de Ingresos (miles de pesos)')\n",
    "plt.xlabel('Ingresos (miles de pesos)')\n",
    "plt.show()"
   ]
  }
 ],
 "metadata": {
  "kernelspec": {
   "display_name": "base",
   "language": "python",
   "name": "python3"
  },
  "language_info": {
   "codemirror_mode": {
    "name": "ipython",
    "version": 3
   },
   "file_extension": ".py",
   "mimetype": "text/x-python",
   "name": "python",
   "nbconvert_exporter": "python",
   "pygments_lexer": "ipython3",
   "version": "3.12.3"
  }
 },
 "nbformat": 4,
 "nbformat_minor": 2
}
