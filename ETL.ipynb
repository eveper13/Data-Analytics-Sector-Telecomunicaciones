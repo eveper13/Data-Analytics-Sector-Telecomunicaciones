{
 "cells": [
  {
   "cell_type": "code",
   "execution_count": 1,
   "metadata": {},
   "outputs": [],
   "source": [
    "#Importar librerias necesarias\n",
    "import pandas as pd\n",
    "import numpy as np"
   ]
  },
  {
   "cell_type": "markdown",
   "metadata": {},
   "source": [
    "Esta función a continuacion ayuda a realizar una revisión inicial de la calidad de los datos en un DataFrame, permitiendo identificar problemas comunes como valores nulos y duplicados."
   ]
  },
  {
   "cell_type": "code",
   "execution_count": 2,
   "metadata": {},
   "outputs": [],
   "source": [
    "def inspeccionar_hoja(df, nombre_hoja):\n",
    "    print(f\"Limpieza de la hoja: {nombre_hoja}\")\n",
    "    \n",
    "    # Imprimir tamaño de la hoja (filas y columnas)\n",
    "    print(f\"Tamaño de la hoja: {df.shape[0]} filas, {df.shape[1]} columnas\")\n",
    "    \n",
    "    print(\"\\n\\nTipos de datos:\")\n",
    "    print(df.dtypes)\n",
    "    \n",
    "    # Mostrar solo las columnas con valores nulos\n",
    "    nulos = df.isnull().sum()\n",
    "    nulos = nulos[nulos > 0]  # Filtrar solo las columnas con nulos\n",
    "    \n",
    "    if not nulos.empty:\n",
    "        print(\"\\n\\nValores nulos:\")\n",
    "        print(nulos)\n",
    "    else:\n",
    "        print(\"\\nNo hay valores nulos.\")\n",
    "    \n",
    "    print(\"\\n\\nRegistros duplicados:\", df.duplicated().sum())\n",
    "    print(\"\\n\" + \"-\"*50 + \"\\n\")\n",
    "\n"
   ]
  },
  {
   "cell_type": "markdown",
   "metadata": {},
   "source": [
    "Se procede a realizar las modificaciones de las hojas seleccionadas del dataset original \"Internet\""
   ]
  },
  {
   "cell_type": "markdown",
   "metadata": {},
   "source": [
    "Por Localidades\n",
    "\n",
    "1. Accesos_tecnologia_localidad"
   ]
  },
  {
   "cell_type": "code",
   "execution_count": 10,
   "metadata": {},
   "outputs": [
    {
     "name": "stdout",
     "output_type": "stream",
     "text": [
      "Limpieza de la hoja: Accesos_tecnologia_localidad\n",
      "Tamaño de la hoja: 3352 filas, 13 columnas\n",
      "\n",
      "\n",
      "Tipos de datos:\n",
      "Provincia        object\n",
      "Partido          object\n",
      "Localidad        object\n",
      "Link Indec       object\n",
      "ADSL              int64\n",
      "CABLEMODEM        int64\n",
      "DIAL UP           int64\n",
      "FIBRA OPTICA      int64\n",
      "OTROS             int64\n",
      "SATELITAL         int64\n",
      "WIMAX             int64\n",
      "WIRELESS          int64\n",
      "Total general     int64\n",
      "dtype: object\n",
      "\n",
      "\n",
      "Valores nulos:\n",
      "Provincia     280\n",
      "Partido       280\n",
      "Localidad     280\n",
      "Link Indec    280\n",
      "dtype: int64\n",
      "\n",
      "\n",
      "Registros duplicados: 279\n",
      "\n",
      "--------------------------------------------------\n",
      "\n"
     ]
    }
   ],
   "source": [
    "#Cargar la hoja Acc_vel_loc_sinrangos\n",
    "tecnologia_local= pd.read_excel('Dataset_original/Internet.xlsx', sheet_name='Accesos_tecnologia_localidad')\n",
    "\n",
    "# Inspeccionar la hoja\n",
    "inspeccionar_hoja(tecnologia_local, 'Accesos_tecnologia_localidad')"
   ]
  },
  {
   "cell_type": "markdown",
   "metadata": {},
   "source": [
    "texto+++++++"
   ]
  },
  {
   "cell_type": "code",
   "execution_count": 11,
   "metadata": {},
   "outputs": [
    {
     "name": "stdout",
     "output_type": "stream",
     "text": [
      "\n",
      "Tipos de datos después de la limpieza en 'Accesos_tecnologia_localidad':\n",
      "Provincia        object\n",
      "Partido          object\n",
      "Localidad        object\n",
      "Link Indec       object\n",
      "ADSL              int64\n",
      "CABLEMODEM        int64\n",
      "DIAL UP           int64\n",
      "FIBRA OPTICA      int64\n",
      "OTROS             int64\n",
      "SATELITAL         int64\n",
      "WIMAX             int64\n",
      "WIRELESS          int64\n",
      "Total general     int64\n",
      "dtype: object\n",
      "\n",
      "No hay valores nulos después de la limpieza en 'Accesos_tecnologia_localidad'.\n",
      "\n",
      "Registros duplicados después de la limpieza en 'Accesos_tecnologia_localidad': 0\n"
     ]
    }
   ],
   "source": [
    "def limpiar_accesos_tecnologia_localidad(df):\n",
    "  \n",
    "    # Rellenar valores nulos en columnas categóricas con 'Desconocido'\n",
    "    df[['Provincia', 'Partido', 'Localidad']] = df[['Provincia', 'Partido', 'Localidad']].fillna('Desconocido')\n",
    "\n",
    "    \n",
    "    # Rellenar valores nulos en columnas numéricas con 0\n",
    "    df.fillna(0, inplace=True)\n",
    "\n",
    "    # Eliminar duplicados\n",
    "    df.drop_duplicates(inplace=True)\n",
    "\n",
    "    # Mostrar tipos de datos después de la limpieza\n",
    "    print(\"\\nTipos de datos después de la limpieza en 'Accesos_tecnologia_localidad':\")\n",
    "    print(df.dtypes)\n",
    "\n",
    "    # Verificar que los nulos han sido reemplazados\n",
    "    nulos = df.isnull().sum()\n",
    "    nulos = nulos[nulos > 0]\n",
    "\n",
    "    if not nulos.empty:\n",
    "        print(\"\\nValores nulos después de la limpieza en 'Accesos_tecnologia_localidad':\")\n",
    "        print(nulos)\n",
    "    else:\n",
    "        print(\"\\nNo hay valores nulos después de la limpieza en 'Accesos_tecnologia_localidad'.\")\n",
    "\n",
    "    # Verificar el número de registros duplicados restantes\n",
    "    duplicados = df.duplicated().sum()\n",
    "    print(\"\\nRegistros duplicados después de la limpieza en 'Accesos_tecnologia_localidad':\", duplicados)\n",
    "\n",
    "    return df\n",
    "\n",
    "# Limpiar y verificar la hoja\n",
    "df_accesos_tecnologia_localidad = limpiar_accesos_tecnologia_localidad(tecnologia_local)\n",
    "\n"
   ]
  },
  {
   "cell_type": "markdown",
   "metadata": {},
   "source": [
    "A esta funcion se le adicionaron ... ojo resumir\n",
    "\n",
    "Reemplazo de valores específicos:\n",
    "\n",
    "\n",
    "Eliminación de filas vacías:\n",
    "\n",
    "Se eliminan todas las filas donde todas las columnas están vacías.\n",
    "Eliminación de duplicados:\n",
    "\n",
    "Se eliminan los registros duplicados del DataFrame.\n",
    "Verificación del resultado:\n",
    "\n",
    "Muestra los tipos de datos de las columnas después de la limpieza.\n",
    "Verifica y muestra si quedan valores nulos después de la limpieza.\n",
    "Muestra cuántos registros duplicados quedan después de la limpieza."
   ]
  },
  {
   "cell_type": "code",
   "execution_count": 12,
   "metadata": {},
   "outputs": [
    {
     "name": "stderr",
     "output_type": "stream",
     "text": [
      "C:\\Users\\evely\\AppData\\Local\\Temp\\ipykernel_11864\\1506012117.py:5: FutureWarning: A value is trying to be set on a copy of a DataFrame or Series through chained assignment using an inplace method.\n",
      "The behavior will change in pandas 3.0. This inplace method will never work because the intermediate object on which we are setting values always behaves as a copy.\n",
      "\n",
      "For example, when doing 'df[col].method(value, inplace=True)', try using 'df.method({col: value}, inplace=True)' or df[col] = df[col].method(value) instead, to perform the operation inplace on the original object.\n",
      "\n",
      "\n",
      "  df_accesos_tecnologia_localidad['Link Indec'].fillna(0, inplace=True)\n"
     ]
    }
   ],
   "source": [
    "\n",
    "# 1. Reemplazar valores no numéricos con NaN\n",
    "df_accesos_tecnologia_localidad['Link Indec'] = pd.to_numeric(df_accesos_tecnologia_localidad['Link Indec'], errors='coerce')\n",
    "\n",
    "# 2. Rellenar valores NaN con 0\n",
    "df_accesos_tecnologia_localidad['Link Indec'].fillna(0, inplace=True)\n",
    "\n",
    "# 3. Convertir la columna a tipo int\n",
    "df_accesos_tecnologia_localidad['Link Indec'] = df_accesos_tecnologia_localidad['Link Indec'].astype(int)\n"
   ]
  },
  {
   "cell_type": "code",
   "execution_count": 13,
   "metadata": {},
   "outputs": [
    {
     "name": "stdout",
     "output_type": "stream",
     "text": [
      "Provincia        object\n",
      "Partido          object\n",
      "Localidad        object\n",
      "Link Indec        int32\n",
      "ADSL              int64\n",
      "CABLEMODEM        int64\n",
      "DIAL UP           int64\n",
      "FIBRA OPTICA      int64\n",
      "OTROS             int64\n",
      "SATELITAL         int64\n",
      "WIMAX             int64\n",
      "WIRELESS          int64\n",
      "Total general     int64\n",
      "dtype: object\n"
     ]
    }
   ],
   "source": [
    "print(df_accesos_tecnologia_localidad.dtypes)"
   ]
  },
  {
   "cell_type": "markdown",
   "metadata": {},
   "source": [
    "Reemplaza el valor 'Sin Datos' en la columna Link Indec con 0.\n",
    "Manejo de valores nulos:\n",
    "\n",
    "En la columna Link Indec, los valores nulos (NaN) se reemplazan por 0 antes de convertir la columna a tipo entero (int).\n",
    "En el resto de las columnas, se rellenan todos los valores nulos con 0."
   ]
  },
  {
   "cell_type": "markdown",
   "metadata": {},
   "source": [
    "se procede a exportar aa .csv"
   ]
  },
  {
   "cell_type": "code",
   "execution_count": 15,
   "metadata": {},
   "outputs": [],
   "source": [
    "# Exportar el DataFrame a un archivo CSV\n",
    "df_accesos_tecnologia_localidad.to_csv('Dataset_procesados/Accesos_tecnologia_localidades.csv', index=False)"
   ]
  },
  {
   "cell_type": "code",
   "execution_count": 17,
   "metadata": {},
   "outputs": [
    {
     "name": "stdout",
     "output_type": "stream",
     "text": [
      "Nombres de las columnas:\n",
      "Index(['Provincia', 'Partido', 'Localidad', 'Link Indec', 'ADSL', 'CABLEMODEM',\n",
      "       'DIAL UP', 'FIBRA OPTICA', 'OTROS', 'SATELITAL', 'WIMAX', 'WIRELESS',\n",
      "       'Total general'],\n",
      "      dtype='object')\n",
      "Como lista:\n",
      "['Provincia', 'Partido', 'Localidad', 'Link Indec', 'ADSL', 'CABLEMODEM', 'DIAL UP', 'FIBRA OPTICA', 'OTROS', 'SATELITAL', 'WIMAX', 'WIRELESS', 'Total general']\n"
     ]
    }
   ],
   "source": [
    "# Obtener los nombres de las columnas\n",
    "columnas = df_accesos_tecnologia_localidad.columns\n",
    "\n",
    "# Convertir el objeto Index a una lista (opcional)\n",
    "lista_columnas = columnas.tolist()\n",
    "\n",
    "# Imprimir los nombres de las columnas\n",
    "print(\"Nombres de las columnas:\")\n",
    "print(columnas)\n",
    "print(\"Como lista:\")\n",
    "print(lista_columnas)"
   ]
  },
  {
   "cell_type": "markdown",
   "metadata": {},
   "source": [
    "Por Provincia:\n",
    "2. Accesos por velocidad"
   ]
  },
  {
   "cell_type": "code",
   "execution_count": 19,
   "metadata": {},
   "outputs": [
    {
     "name": "stdout",
     "output_type": "stream",
     "text": [
      "Limpieza de la hoja: Accesos por velocidad\n",
      "Tamaño de la hoja: 984 filas, 12 columnas\n",
      "\n",
      "\n",
      "Tipos de datos:\n",
      "Año                      int64\n",
      "Trimestre                int64\n",
      "Provincia               object\n",
      "HASTA 512 kbps         float64\n",
      "+ 512 Kbps - 1 Mbps    float64\n",
      "+ 1 Mbps - 6 Mbps      float64\n",
      "+ 6 Mbps - 10 Mbps     float64\n",
      "+ 10 Mbps - 20 Mbps    float64\n",
      "+ 20 Mbps - 30 Mbps    float64\n",
      "+ 30 Mbps              float64\n",
      "OTROS                  float64\n",
      "Total                  float64\n",
      "dtype: object\n",
      "\n",
      "\n",
      "Valores nulos:\n",
      "OTROS    6\n",
      "dtype: int64\n",
      "\n",
      "\n",
      "Registros duplicados: 0\n",
      "\n",
      "--------------------------------------------------\n",
      "\n"
     ]
    }
   ],
   "source": [
    "#Cargar la hoja Acc_vel_loc_sinrangos\n",
    "accesos_por_velocidad  = pd.read_excel('Dataset_original/Internet.xlsx', sheet_name='Accesos por velocidad')\n",
    "\n",
    "# Inspeccionar la hoja\n",
    "inspeccionar_hoja(accesos_por_velocidad , 'Accesos por velocidad')\n"
   ]
  },
  {
   "cell_type": "markdown",
   "metadata": {},
   "source": [
    "La columna de año aparecece como int\n",
    "Calculos Directos: Al tener Año como un entero, puedes realizar cálculos o agrupamientos de manera más directa. Las operaciones matemáticas y estadísticas sobre años, como diferencias o promedios, se manejan de manera sencilla con enteros.  modificar"
   ]
  },
  {
   "cell_type": "markdown",
   "metadata": {},
   "source": [
    "el resumen ...."
   ]
  },
  {
   "cell_type": "code",
   "execution_count": 20,
   "metadata": {},
   "outputs": [
    {
     "name": "stdout",
     "output_type": "stream",
     "text": [
      "Después de la limpieza:\n",
      "Limpieza de la hoja: Accesos por velocidad\n",
      "Tamaño de la hoja: 984 filas, 12 columnas\n",
      "\n",
      "\n",
      "Tipos de datos:\n",
      "Año                      int64\n",
      "Trimestre                int64\n",
      "Provincia               object\n",
      "HASTA 512 kbps         float64\n",
      "+ 512 Kbps - 1 Mbps    float64\n",
      "+ 1 Mbps - 6 Mbps      float64\n",
      "+ 6 Mbps - 10 Mbps     float64\n",
      "+ 10 Mbps - 20 Mbps    float64\n",
      "+ 20 Mbps - 30 Mbps    float64\n",
      "+ 30 Mbps              float64\n",
      "OTROS                  float64\n",
      "Total                  float64\n",
      "dtype: object\n",
      "\n",
      "No hay valores nulos.\n",
      "\n",
      "\n",
      "Registros duplicados: 0\n",
      "\n",
      "--------------------------------------------------\n",
      "\n"
     ]
    }
   ],
   "source": [
    "# función de limpieza específica para la hoja 'Accesos por velocidad'\n",
    "def limpiar_hoja_accesos_por_velocidad(df):\n",
    "    \n",
    "\n",
    "    # Rellenar valores nulos en la columna 'OTROS' con 0\n",
    "    df['OTROS'] = df['OTROS'].fillna(0)\n",
    "\n",
    "    return df\n",
    "\n",
    "# Aplicar la limpieza a la hoja\n",
    "accesos_por_velocidad = limpiar_hoja_accesos_por_velocidad(accesos_por_velocidad)\n",
    "\n",
    "# Inspeccionar la hoja después de la limpieza\n",
    "print(\"Después de la limpieza:\")\n",
    "inspeccionar_hoja(accesos_por_velocidad, 'Accesos por velocidad')\n",
    "\n"
   ]
  },
  {
   "cell_type": "markdown",
   "metadata": {},
   "source": [
    "Los valores nulos en OTROS pueden causar problemas en cálculos estadísticos y gráficos. Rellenar estos valores con 0 asegura que todos los registros se puedan analizar sin generar errores o interpretaciones incorrectas debido a valores faltantes."
   ]
  },
  {
   "cell_type": "code",
   "execution_count": null,
   "metadata": {},
   "outputs": [],
   "source": [
    "# Exportar el DataFrame a un archivo CSV\n",
    "accesos_por_velocidad.to_csv('Dataset_procesado/Accesos_velocidad_Provincia.csv', index=False)"
   ]
  },
  {
   "cell_type": "markdown",
   "metadata": {},
   "source": [
    "Por Provincia:\n",
    "3. Accesos Por Tecnología"
   ]
  },
  {
   "cell_type": "code",
   "execution_count": 3,
   "metadata": {},
   "outputs": [
    {
     "name": "stdout",
     "output_type": "stream",
     "text": [
      "Limpieza de la hoja: Accesos Por Tecnología\n",
      "Tamaño de la hoja: 986 filas, 9 columnas\n",
      "\n",
      "\n",
      "Tipos de datos:\n",
      "Año              object\n",
      "Trimestre        object\n",
      "Provincia        object\n",
      "ADSL            float64\n",
      "Cablemodem      float64\n",
      "Fibra óptica    float64\n",
      "Wireless        float64\n",
      "Otros           float64\n",
      "Total           float64\n",
      "dtype: object\n",
      "\n",
      "\n",
      "Valores nulos:\n",
      "Año             1\n",
      "Trimestre       1\n",
      "Provincia       2\n",
      "ADSL            2\n",
      "Cablemodem      2\n",
      "Fibra óptica    2\n",
      "Wireless        2\n",
      "Otros           2\n",
      "Total           2\n",
      "dtype: int64\n",
      "\n",
      "\n",
      "Registros duplicados: 0\n",
      "\n",
      "--------------------------------------------------\n",
      "\n"
     ]
    }
   ],
   "source": [
    "#Cargar la hoja Acc_vel_loc_sinrangos\n",
    "acces_tecnologia= pd.read_excel('Dataset_original/Internet.xlsx', sheet_name='Accesos Por Tecnología')\n",
    "\n",
    "# Inspeccionar la hoja\n",
    "inspeccionar_hoja(acces_tecnologia, 'Accesos Por Tecnología')\n"
   ]
  },
  {
   "cell_type": "markdown",
   "metadata": {},
   "source": [
    "redactar mejor. aqui se encontraron tipos de datos mal como año y trimetre en object que deben ser modificados a enteros(int)\n",
    "y se encontraron vrios nulos en columnas numericas y en provincia que es categorica"
   ]
  },
  {
   "cell_type": "code",
   "execution_count": 4,
   "metadata": {},
   "outputs": [
    {
     "name": "stdout",
     "output_type": "stream",
     "text": [
      "[2024 2023 2022 2021 2020 2019 '2019 *' 2018 2017 2016 2015 2014 nan '*']\n",
      "[1 4 3 2 '3 *' '2 *' '1 *' nan\n",
      " 'Los datos provinciales no coinciden a nivel nacional, ya que se rincorporó información que no contien apertuta a nivel geográfico.']\n"
     ]
    }
   ],
   "source": [
    "print(acces_tecnologia['Año'].unique())\n",
    "print(acces_tecnologia['Trimestre'].unique())"
   ]
  },
  {
   "cell_type": "markdown",
   "metadata": {},
   "source": [
    "ademas se veridica en esas dos columnas nan..."
   ]
  },
  {
   "cell_type": "code",
   "execution_count": 5,
   "metadata": {},
   "outputs": [
    {
     "name": "stdout",
     "output_type": "stream",
     "text": [
      "     Año Trimestre Provincia  ADSL  Cablemodem  Fibra óptica  Wireless  Otros  \\\n",
      "984  NaN       NaN       NaN   NaN         NaN           NaN       NaN    NaN   \n",
      "\n",
      "     Total  \n",
      "984    NaN  \n"
     ]
    }
   ],
   "source": [
    "# Filas con valores nulos en 'Año'\n",
    "print(acces_tecnologia[acces_tecnologia['Año'].isna()])\n"
   ]
  },
  {
   "cell_type": "code",
   "execution_count": 6,
   "metadata": {},
   "outputs": [],
   "source": [
    "# Eliminar filas que estén completamente vacías (todas las columnas son NaN)\n",
    "acces_tecnologia= acces_tecnologia.dropna(how='all')"
   ]
  },
  {
   "cell_type": "code",
   "execution_count": 7,
   "metadata": {},
   "outputs": [
    {
     "name": "stdout",
     "output_type": "stream",
     "text": [
      "Después de la limpieza:\n",
      "Limpieza de la hoja: Accesos Por Tecnología\n",
      "Tamaño de la hoja: 985 filas, 11 columnas\n",
      "\n",
      "\n",
      "Tipos de datos:\n",
      "Año                          Int64\n",
      "Trimestre                    Int64\n",
      "Provincia                   object\n",
      "ADSL                       float64\n",
      "Cablemodem                 float64\n",
      "Fibra óptica               float64\n",
      "Wireless                   float64\n",
      "Otros                      float64\n",
      "Total                      float64\n",
      "Año_inconsistente            Int64\n",
      "Trimestre_inconsistente      Int64\n",
      "dtype: object\n",
      "\n",
      "\n",
      "Valores nulos:\n",
      "Año                          1\n",
      "Trimestre                    1\n",
      "Año_inconsistente          913\n",
      "Trimestre_inconsistente    913\n",
      "dtype: int64\n",
      "\n",
      "\n",
      "Registros duplicados: 0\n",
      "\n",
      "--------------------------------------------------\n",
      "\n"
     ]
    }
   ],
   "source": [
    "def limpiar_hoja_accesos_por_tecnologia(df):\n",
    "\n",
    "    # Mover valores con asterisco a nuevas columnas y limpiar las originales\n",
    "    \n",
    "    # Procesar columna 'Año'\n",
    "    df['Año_inconsistente'] = df['Año'].apply(lambda x: x if pd.notna(x) and '*' in str(x) else pd.NA)\n",
    "    df['Año_inconsistente'] = df['Año_inconsistente'].apply(lambda x: str(x).replace('*', '') if pd.notna(x) else x)\n",
    "    df['Año_inconsistente'] = pd.to_numeric(df['Año_inconsistente'], errors='coerce').astype('Int64')\n",
    "    \n",
    "    df['Año'] = df['Año'].apply(lambda x: str(x).replace('*', '') if pd.notna(x) and '*' in str(x) else x)\n",
    "    df['Año'] = pd.to_numeric(df['Año'], errors='coerce').astype('Int64')\n",
    "    \n",
    "    # Procesar columna 'Trimestre'\n",
    "    df['Trimestre_inconsistente'] = df['Trimestre'].apply(lambda x: x if pd.notna(x) and '*' in str(x) else pd.NA)\n",
    "    df['Trimestre_inconsistente'] = df['Trimestre_inconsistente'].apply(lambda x: str(x).replace('*', '') if pd.notna(x) else x)\n",
    "    df['Trimestre_inconsistente'] = pd.to_numeric(df['Trimestre_inconsistente'], errors='coerce').astype('Int64')\n",
    "    \n",
    "    df['Trimestre'] = df['Trimestre'].apply(lambda x: str(x).replace('*', '') if pd.notna(x) and '*' in str(x) else x)\n",
    "    df['Trimestre'] = pd.to_numeric(df['Trimestre'], errors='coerce').astype('Int64')\n",
    "    \n",
    "\n",
    "\n",
    "    \n",
    "    # Rellenar valores nulos en columnas numéricas con 0\n",
    "    columnas_numericas = ['ADSL', 'Cablemodem', 'Fibra óptica', 'Wireless', 'Otros', 'Total']\n",
    "    df[columnas_numericas] = df[columnas_numericas].fillna(0)\n",
    "\n",
    "    # Rellenar valores nulos en columnas categóricas con un valor representativo o 'Desconocido'\n",
    "    df['Provincia'] = df['Provincia'].fillna('Desconocido')\n",
    "    \n",
    "    return df\n",
    "\n",
    "\n",
    "# Aplicar la limpieza a la hoja\n",
    "accesos_por_tecnologia = limpiar_hoja_accesos_por_tecnologia(acces_tecnologia)\n",
    "\n",
    "# Inspeccionar la hoja después de la limpieza\n",
    "print(\"Después de la limpieza:\")\n",
    "inspeccionar_hoja(accesos_por_tecnologia, 'Accesos Por Tecnología')\n",
    "\n"
   ]
  },
  {
   "cell_type": "markdown",
   "metadata": {},
   "source": [
    "Problema Identificado: En la hoja \"Accesos Por Tecnología\", las columnas Año y Trimestre contienen valores con un asterisco (*), indicando que estos datos provinciales pueden no coincidir exactamente con los datos a nivel nacional debido a la reincorporación de información sin desagregación geográfica.\n",
    "\n",
    "Enfoque Propuesto:\n",
    "\n",
    "Agregar Columnas de Indicador: Introducir columnas adicionales de Año_inconsistente y trimestre_inconsistente con los valores que poseen *\n",
    "Limpiar Datos: Eliminar el asterisco de los valores y convertir las columnas Año y Trimestre a tipos de datos apropiados.\n",
    "Rellenar Valores Nulos: Completar valores nulos en columnas numéricas y categóricas con valores apropiados.\n"
   ]
  },
  {
   "cell_type": "code",
   "execution_count": 9,
   "metadata": {},
   "outputs": [],
   "source": [
    "# Exportar el DataFrame a un archivo CSV\n",
    "accesos_por_tecnologia.to_csv('Dataset_procesados/Accesos_Tecnología_Provincia.csv', index=False, encoding='utf-8')"
   ]
  },
  {
   "cell_type": "markdown",
   "metadata": {},
   "source": [
    "4. Penetración-poblacion"
   ]
  },
  {
   "cell_type": "code",
   "execution_count": 31,
   "metadata": {},
   "outputs": [
    {
     "name": "stdout",
     "output_type": "stream",
     "text": [
      "Limpieza de la hoja: Penetración-poblacion\n",
      "Tamaño de la hoja: 984 filas, 4 columnas\n",
      "\n",
      "\n",
      "Tipos de datos:\n",
      "Año                           int64\n",
      "Trimestre                     int64\n",
      "Provincia                    object\n",
      "Accesos por cada 100 hab    float64\n",
      "dtype: object\n",
      "\n",
      "No hay valores nulos.\n",
      "\n",
      "\n",
      "Registros duplicados: 0\n",
      "\n",
      "--------------------------------------------------\n",
      "\n"
     ]
    }
   ],
   "source": [
    "#Cargar la hoja Acc_vel_loc_sinrangos\n",
    "poblacion= pd.read_excel('Dataset_original/Internet.xlsx', sheet_name='Penetración-poblacion')\n",
    "\n",
    "# Inspeccionar la hoja\n",
    "inspeccionar_hoja(poblacion, 'Penetración-poblacion')\n"
   ]
  },
  {
   "cell_type": "markdown",
   "metadata": {},
   "source": [
    "en esta hoja no existen valores nulos o duplicados y sus tipos de datos en las columnas esstan bien por eso no se efectuaran cambios"
   ]
  },
  {
   "cell_type": "code",
   "execution_count": 32,
   "metadata": {},
   "outputs": [],
   "source": [
    "# Exportar el DataFrame a un archivo CSV\n",
    "poblacion.to_csv('Dataset_procesado/Penetración_poblacion.csv', index=False)"
   ]
  },
  {
   "cell_type": "markdown",
   "metadata": {},
   "source": [
    "5. Penetración-hogares"
   ]
  },
  {
   "cell_type": "code",
   "execution_count": 3,
   "metadata": {},
   "outputs": [
    {
     "name": "stdout",
     "output_type": "stream",
     "text": [
      "Limpieza de la hoja: Penetracion-hogares\n",
      "Tamaño de la hoja: 984 filas, 4 columnas\n",
      "\n",
      "\n",
      "Tipos de datos:\n",
      "Año                               int64\n",
      "Trimestre                         int64\n",
      "Provincia                        object\n",
      "Accesos por cada 100 hogares    float64\n",
      "dtype: object\n",
      "\n",
      "No hay valores nulos.\n",
      "\n",
      "\n",
      "Registros duplicados: 0\n",
      "\n",
      "--------------------------------------------------\n",
      "\n"
     ]
    }
   ],
   "source": [
    "#Cargar la hoja Acc_vel_loc_sinrangos\n",
    "hogares= pd.read_excel('Dataset_original/Internet.xlsx', sheet_name='Penetracion-hogares')\n",
    "\n",
    "# Inspeccionar la hoja\n",
    "inspeccionar_hoja(hogares, 'Penetracion-hogares')\n"
   ]
  },
  {
   "cell_type": "code",
   "execution_count": 4,
   "metadata": {},
   "outputs": [
    {
     "data": {
      "text/html": [
       "<div>\n",
       "<style scoped>\n",
       "    .dataframe tbody tr th:only-of-type {\n",
       "        vertical-align: middle;\n",
       "    }\n",
       "\n",
       "    .dataframe tbody tr th {\n",
       "        vertical-align: top;\n",
       "    }\n",
       "\n",
       "    .dataframe thead th {\n",
       "        text-align: right;\n",
       "    }\n",
       "</style>\n",
       "<table border=\"1\" class=\"dataframe\">\n",
       "  <thead>\n",
       "    <tr style=\"text-align: right;\">\n",
       "      <th></th>\n",
       "      <th>Año</th>\n",
       "      <th>Trimestre</th>\n",
       "      <th>Provincia</th>\n",
       "      <th>Accesos por cada 100 hogares</th>\n",
       "    </tr>\n",
       "  </thead>\n",
       "  <tbody>\n",
       "    <tr>\n",
       "      <th>979</th>\n",
       "      <td>2014</td>\n",
       "      <td>1</td>\n",
       "      <td>Santa Cruz</td>\n",
       "      <td>28.939093</td>\n",
       "    </tr>\n",
       "    <tr>\n",
       "      <th>980</th>\n",
       "      <td>2014</td>\n",
       "      <td>1</td>\n",
       "      <td>Santa Fe</td>\n",
       "      <td>47.847663</td>\n",
       "    </tr>\n",
       "    <tr>\n",
       "      <th>981</th>\n",
       "      <td>2014</td>\n",
       "      <td>1</td>\n",
       "      <td>Santiago Del Estero</td>\n",
       "      <td>16.309924</td>\n",
       "    </tr>\n",
       "    <tr>\n",
       "      <th>982</th>\n",
       "      <td>2014</td>\n",
       "      <td>1</td>\n",
       "      <td>Tierra Del Fuego</td>\n",
       "      <td>63.965926</td>\n",
       "    </tr>\n",
       "    <tr>\n",
       "      <th>983</th>\n",
       "      <td>2014</td>\n",
       "      <td>1</td>\n",
       "      <td>Tucumán</td>\n",
       "      <td>33.420975</td>\n",
       "    </tr>\n",
       "  </tbody>\n",
       "</table>\n",
       "</div>"
      ],
      "text/plain": [
       "      Año  Trimestre            Provincia  Accesos por cada 100 hogares\n",
       "979  2014          1           Santa Cruz                     28.939093\n",
       "980  2014          1             Santa Fe                     47.847663\n",
       "981  2014          1  Santiago Del Estero                     16.309924\n",
       "982  2014          1     Tierra Del Fuego                     63.965926\n",
       "983  2014          1              Tucumán                     33.420975"
      ]
     },
     "execution_count": 4,
     "metadata": {},
     "output_type": "execute_result"
    }
   ],
   "source": [
    "hogares.tail()"
   ]
  },
  {
   "cell_type": "code",
   "execution_count": 5,
   "metadata": {},
   "outputs": [],
   "source": [
    "hogares[\"Accesos por cada 100 hogares\"] = hogares[\"Accesos por cada 100 hogares\"].round(2)"
   ]
  },
  {
   "cell_type": "code",
   "execution_count": 6,
   "metadata": {},
   "outputs": [
    {
     "data": {
      "text/html": [
       "<div>\n",
       "<style scoped>\n",
       "    .dataframe tbody tr th:only-of-type {\n",
       "        vertical-align: middle;\n",
       "    }\n",
       "\n",
       "    .dataframe tbody tr th {\n",
       "        vertical-align: top;\n",
       "    }\n",
       "\n",
       "    .dataframe thead th {\n",
       "        text-align: right;\n",
       "    }\n",
       "</style>\n",
       "<table border=\"1\" class=\"dataframe\">\n",
       "  <thead>\n",
       "    <tr style=\"text-align: right;\">\n",
       "      <th></th>\n",
       "      <th>Año</th>\n",
       "      <th>Trimestre</th>\n",
       "      <th>Provincia</th>\n",
       "      <th>Accesos por cada 100 hogares</th>\n",
       "    </tr>\n",
       "  </thead>\n",
       "  <tbody>\n",
       "    <tr>\n",
       "      <th>979</th>\n",
       "      <td>2014</td>\n",
       "      <td>1</td>\n",
       "      <td>Santa Cruz</td>\n",
       "      <td>28.94</td>\n",
       "    </tr>\n",
       "    <tr>\n",
       "      <th>980</th>\n",
       "      <td>2014</td>\n",
       "      <td>1</td>\n",
       "      <td>Santa Fe</td>\n",
       "      <td>47.85</td>\n",
       "    </tr>\n",
       "    <tr>\n",
       "      <th>981</th>\n",
       "      <td>2014</td>\n",
       "      <td>1</td>\n",
       "      <td>Santiago Del Estero</td>\n",
       "      <td>16.31</td>\n",
       "    </tr>\n",
       "    <tr>\n",
       "      <th>982</th>\n",
       "      <td>2014</td>\n",
       "      <td>1</td>\n",
       "      <td>Tierra Del Fuego</td>\n",
       "      <td>63.97</td>\n",
       "    </tr>\n",
       "    <tr>\n",
       "      <th>983</th>\n",
       "      <td>2014</td>\n",
       "      <td>1</td>\n",
       "      <td>Tucumán</td>\n",
       "      <td>33.42</td>\n",
       "    </tr>\n",
       "  </tbody>\n",
       "</table>\n",
       "</div>"
      ],
      "text/plain": [
       "      Año  Trimestre            Provincia  Accesos por cada 100 hogares\n",
       "979  2014          1           Santa Cruz                         28.94\n",
       "980  2014          1             Santa Fe                         47.85\n",
       "981  2014          1  Santiago Del Estero                         16.31\n",
       "982  2014          1     Tierra Del Fuego                         63.97\n",
       "983  2014          1              Tucumán                         33.42"
      ]
     },
     "execution_count": 6,
     "metadata": {},
     "output_type": "execute_result"
    }
   ],
   "source": [
    "hogares.tail()"
   ]
  },
  {
   "cell_type": "code",
   "execution_count": 43,
   "metadata": {},
   "outputs": [],
   "source": [
    "# Limpiar espacios en la columna 'Accesos por cada 100 hogares'\n",
    "hogares['Accesos por cada 100 hogares'] = hogares['Accesos por cada 100 hogares'].astype(str).str.strip()\n",
    "\n",
    "# Convertir la columna a float\n",
    "hogares['Accesos por cada 100 hogares'] = pd.to_numeric(hogares['Accesos por cada 100 hogares'], errors='coerce')\n"
   ]
  },
  {
   "cell_type": "markdown",
   "metadata": {},
   "source": [
    "Al igual que la anterior en esta hoja no existen valores nulos o duplicados y sus tipos de datos en las columnas esstan bien por eso no se efectuaran cambios"
   ]
  },
  {
   "cell_type": "code",
   "execution_count": 8,
   "metadata": {},
   "outputs": [],
   "source": [
    "# Exportar el DataFrame a un archivo CSV\n",
    "hogares.to_csv('Dataset_procesados/Penetracion_hogares.csv',index=False)"
   ]
  },
  {
   "cell_type": "markdown",
   "metadata": {},
   "source": [
    "7. Velocidad % por prov"
   ]
  },
  {
   "cell_type": "code",
   "execution_count": 45,
   "metadata": {},
   "outputs": [
    {
     "name": "stdout",
     "output_type": "stream",
     "text": [
      "Limpieza de la hoja: Velocidad % por prov\n",
      "Tamaño de la hoja: 984 filas, 4 columnas\n",
      "\n",
      "\n",
      "Tipos de datos:\n",
      "Año                         int64\n",
      "Trimestre                   int64\n",
      "Provincia                  object\n",
      "Mbps (Media de bajada)    float64\n",
      "dtype: object\n",
      "\n",
      "No hay valores nulos.\n",
      "\n",
      "\n",
      "Registros duplicados: 0\n",
      "\n",
      "--------------------------------------------------\n",
      "\n"
     ]
    }
   ],
   "source": [
    "#Cargar la hoja Acc_vel_loc_sinrangos\n",
    "velocidad= pd.read_excel('Dataset_original/Internet.xlsx', sheet_name='Velocidad % por prov')\n",
    "\n",
    "# Inspeccionar la hoja\n",
    "inspeccionar_hoja(velocidad, 'Velocidad % por prov')"
   ]
  },
  {
   "cell_type": "code",
   "execution_count": null,
   "metadata": {},
   "outputs": [],
   "source": [
    "# Exportar el DataFrame a un archivo CSV\n",
    "velocidad.to_csv('Dataset_procesado/Velocidad % por prov.csv', index=False)"
   ]
  },
  {
   "cell_type": "markdown",
   "metadata": {},
   "source": [
    "8. Ingresos"
   ]
  },
  {
   "cell_type": "code",
   "execution_count": 46,
   "metadata": {},
   "outputs": [
    {
     "name": "stdout",
     "output_type": "stream",
     "text": [
      "Limpieza de la hoja: Ingresos \n",
      "Tamaño de la hoja: 41 filas, 4 columnas\n",
      "\n",
      "\n",
      "Tipos de datos:\n",
      "Año                            int64\n",
      "Trimestre                      int64\n",
      "Ingresos (miles de pesos)    float64\n",
      "Periodo                       object\n",
      "dtype: object\n",
      "\n",
      "No hay valores nulos.\n",
      "\n",
      "\n",
      "Registros duplicados: 0\n",
      "\n",
      "--------------------------------------------------\n",
      "\n"
     ]
    }
   ],
   "source": [
    "#Cargar la hoja Acc_vel_loc_sinrangos\n",
    "ingresos= pd.read_excel('Dataset_original/Internet.xlsx', sheet_name='Ingresos ')\n",
    "\n",
    "# Inspeccionar la hoja\n",
    "inspeccionar_hoja(ingresos, 'Ingresos ')"
   ]
  },
  {
   "cell_type": "markdown",
   "metadata": {},
   "source": [
    "se observa que tambien la hoja de ingresos esta limpia"
   ]
  },
  {
   "cell_type": "code",
   "execution_count": null,
   "metadata": {},
   "outputs": [],
   "source": [
    "# Exportar el DataFrame a un archivo CSV\n",
    "ingresos.to_csv('Dataset_procesado/Ingresos.csv', index=False)"
   ]
  },
  {
   "cell_type": "markdown",
   "metadata": {},
   "source": [
    "Se procede a unir los csv para manejar uno solo en streamlit... "
   ]
  },
  {
   "cell_type": "code",
   "execution_count": 50,
   "metadata": {},
   "outputs": [],
   "source": [
    "import os\n",
    "\n",
    "# Define la ruta de la carpeta que contiene los archivos CSV\n",
    "carpeta_datasets = 'Dataset_procesado'\n",
    "\n",
    "# Lista con los nombres de los archivos CSV que quieres combinar\n",
    "csv_files = ['Accesos_tecnologia_localidades.csv', 'Accesos_Tecnología_Provincia.csv', 'Accesos_velocidad_Provincia.csv', \n",
    "             'Ingresos.csv', 'Penetracion_hogares.csv', 'Penetración_poblacion.csv', 'Velocidad % por prov.csv']\n",
    "\n",
    "# Crear una lista con las rutas completas de los archivos CSV\n",
    "csv_files_path = [os.path.join(carpeta_datasets, file) for file in csv_files]\n",
    "\n",
    "# Leer y combinar todos los CSVs en un solo DataFrame\n",
    "combined_df = pd.concat([pd.read_csv(file) for file in csv_files_path], ignore_index=True)\n",
    "\n",
    "\n",
    "# Exportar el DataFrame combinado a un nuevo archivo CSV\n",
    "combined_df.to_csv('data_global.csv', index=False)\n"
   ]
  }
 ],
 "metadata": {
  "kernelspec": {
   "display_name": "base",
   "language": "python",
   "name": "python3"
  },
  "language_info": {
   "codemirror_mode": {
    "name": "ipython",
    "version": 3
   },
   "file_extension": ".py",
   "mimetype": "text/x-python",
   "name": "python",
   "nbconvert_exporter": "python",
   "pygments_lexer": "ipython3",
   "version": "3.12.3"
  }
 },
 "nbformat": 4,
 "nbformat_minor": 2
}
